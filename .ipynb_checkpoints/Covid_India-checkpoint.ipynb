{
 "cells": [
  {
   "cell_type": "markdown",
   "metadata": {},
   "source": [
    "# COVID : Tracking the impact of COVID-19 in India"
   ]
  },
  {
   "cell_type": "code",
   "execution_count": 333,
   "metadata": {},
   "outputs": [],
   "source": [
    "import pandas as pd\n",
    "import numpy as np\n",
    "import matplotlib.pyplot as plt\n",
    "import seaborn as sns\n",
    "\n",
    "%matplotlib inline"
   ]
  },
  {
   "cell_type": "markdown",
   "metadata": {},
   "source": [
    "### Read data set"
   ]
  },
  {
   "cell_type": "code",
   "execution_count": 334,
   "metadata": {},
   "outputs": [],
   "source": [
    "#read data set from covid19india.org\n",
    "df1=pd.read_csv(\"https://api.covid19india.org/csv/latest/raw_data1.csv\")\n",
    "df2=pd.read_csv(\"https://api.covid19india.org/csv/latest/raw_data2.csv\")\n",
    "df3=pd.read_csv(\"https://api.covid19india.org/csv/latest/raw_data3.csv\")\n",
    "df4=pd.read_csv(\"https://api.covid19india.org/csv/latest/raw_data4.csv\")\n",
    "df5=pd.read_csv(\"https://api.covid19india.org/csv/latest/raw_data5.csv\")\n",
    "df6=pd.read_csv(\"https://api.covid19india.org/csv/latest/raw_data6.csv\")\n",
    "df7=pd.read_csv(\"https://api.covid19india.org/csv/latest/raw_data7.csv\")\n",
    "df8=pd.read_csv(\"https://api.covid19india.org/csv/latest/raw_data8.csv\")\n",
    "df9=pd.read_csv(\"https://api.covid19india.org/csv/latest/raw_data9.csv\")\n",
    "\n"
   ]
  },
  {
   "cell_type": "code",
   "execution_count": 335,
   "metadata": {},
   "outputs": [
    {
     "data": {
      "text/html": [
       "<div>\n",
       "<style scoped>\n",
       "    .dataframe tbody tr th:only-of-type {\n",
       "        vertical-align: middle;\n",
       "    }\n",
       "\n",
       "    .dataframe tbody tr th {\n",
       "        vertical-align: top;\n",
       "    }\n",
       "\n",
       "    .dataframe thead th {\n",
       "        text-align: right;\n",
       "    }\n",
       "</style>\n",
       "<table border=\"1\" class=\"dataframe\">\n",
       "  <thead>\n",
       "    <tr style=\"text-align: right;\">\n",
       "      <th></th>\n",
       "      <th>Patient Number</th>\n",
       "      <th>State Patient Number</th>\n",
       "      <th>Date Announced</th>\n",
       "      <th>Estimated Onset Date</th>\n",
       "      <th>Age Bracket</th>\n",
       "      <th>Gender</th>\n",
       "      <th>Detected City</th>\n",
       "      <th>Detected District</th>\n",
       "      <th>Detected State</th>\n",
       "      <th>State code</th>\n",
       "      <th>...</th>\n",
       "      <th>Notes</th>\n",
       "      <th>Contracted from which Patient (Suspected)</th>\n",
       "      <th>Nationality</th>\n",
       "      <th>Type of transmission</th>\n",
       "      <th>Status Change Date</th>\n",
       "      <th>Source_1</th>\n",
       "      <th>Source_2</th>\n",
       "      <th>Source_3</th>\n",
       "      <th>Backup Notes</th>\n",
       "      <th>Num cases</th>\n",
       "    </tr>\n",
       "  </thead>\n",
       "  <tbody>\n",
       "    <tr>\n",
       "      <th>0</th>\n",
       "      <td>1.0</td>\n",
       "      <td>KL-TS-P1</td>\n",
       "      <td>30/01/2020</td>\n",
       "      <td>NaN</td>\n",
       "      <td>20</td>\n",
       "      <td>F</td>\n",
       "      <td>Thrissur</td>\n",
       "      <td>Thrissur</td>\n",
       "      <td>Kerala</td>\n",
       "      <td>KL</td>\n",
       "      <td>...</td>\n",
       "      <td>Travelled from Wuhan</td>\n",
       "      <td>NaN</td>\n",
       "      <td>India</td>\n",
       "      <td>Imported</td>\n",
       "      <td>14/02/2020</td>\n",
       "      <td>https://twitter.com/vijayanpinarayi/status/122...</td>\n",
       "      <td>https://weather.com/en-IN/india/news/news/2020...</td>\n",
       "      <td>NaN</td>\n",
       "      <td>Student from Wuhan</td>\n",
       "      <td>1</td>\n",
       "    </tr>\n",
       "    <tr>\n",
       "      <th>1</th>\n",
       "      <td>2.0</td>\n",
       "      <td>KL-AL-P1</td>\n",
       "      <td>02/02/2020</td>\n",
       "      <td>NaN</td>\n",
       "      <td>NaN</td>\n",
       "      <td>NaN</td>\n",
       "      <td>Alappuzha</td>\n",
       "      <td>Alappuzha</td>\n",
       "      <td>Kerala</td>\n",
       "      <td>KL</td>\n",
       "      <td>...</td>\n",
       "      <td>Travelled from Wuhan</td>\n",
       "      <td>NaN</td>\n",
       "      <td>India</td>\n",
       "      <td>Imported</td>\n",
       "      <td>14/02/2020</td>\n",
       "      <td>https://www.indiatoday.in/india/story/kerala-r...</td>\n",
       "      <td>https://weather.com/en-IN/india/news/news/2020...</td>\n",
       "      <td>NaN</td>\n",
       "      <td>Student from Wuhan</td>\n",
       "      <td>1</td>\n",
       "    </tr>\n",
       "    <tr>\n",
       "      <th>2</th>\n",
       "      <td>3.0</td>\n",
       "      <td>KL-KS-P1</td>\n",
       "      <td>03/02/2020</td>\n",
       "      <td>NaN</td>\n",
       "      <td>NaN</td>\n",
       "      <td>NaN</td>\n",
       "      <td>Kasaragod</td>\n",
       "      <td>Kasaragod</td>\n",
       "      <td>Kerala</td>\n",
       "      <td>KL</td>\n",
       "      <td>...</td>\n",
       "      <td>Travelled from Wuhan</td>\n",
       "      <td>NaN</td>\n",
       "      <td>India</td>\n",
       "      <td>Imported</td>\n",
       "      <td>14/02/2020</td>\n",
       "      <td>https://www.indiatoday.in/india/story/kerala-n...</td>\n",
       "      <td>https://twitter.com/ANI/status/122422148580539...</td>\n",
       "      <td>https://weather.com/en-IN/india/news/news/2020...</td>\n",
       "      <td>Student from Wuhan</td>\n",
       "      <td>1</td>\n",
       "    </tr>\n",
       "  </tbody>\n",
       "</table>\n",
       "<p>3 rows × 21 columns</p>\n",
       "</div>"
      ],
      "text/plain": [
       "   Patient Number State Patient Number Date Announced  Estimated Onset Date  \\\n",
       "0             1.0             KL-TS-P1     30/01/2020                   NaN   \n",
       "1             2.0             KL-AL-P1     02/02/2020                   NaN   \n",
       "2             3.0             KL-KS-P1     03/02/2020                   NaN   \n",
       "\n",
       "  Age Bracket Gender Detected City Detected District Detected State  \\\n",
       "0          20      F      Thrissur          Thrissur         Kerala   \n",
       "1         NaN    NaN     Alappuzha         Alappuzha         Kerala   \n",
       "2         NaN    NaN     Kasaragod         Kasaragod         Kerala   \n",
       "\n",
       "  State code  ...                 Notes  \\\n",
       "0         KL  ...  Travelled from Wuhan   \n",
       "1         KL  ...  Travelled from Wuhan   \n",
       "2         KL  ...  Travelled from Wuhan   \n",
       "\n",
       "  Contracted from which Patient (Suspected) Nationality Type of transmission  \\\n",
       "0                                       NaN       India             Imported   \n",
       "1                                       NaN       India             Imported   \n",
       "2                                       NaN       India             Imported   \n",
       "\n",
       "  Status Change Date                                           Source_1  \\\n",
       "0         14/02/2020  https://twitter.com/vijayanpinarayi/status/122...   \n",
       "1         14/02/2020  https://www.indiatoday.in/india/story/kerala-r...   \n",
       "2         14/02/2020  https://www.indiatoday.in/india/story/kerala-n...   \n",
       "\n",
       "                                            Source_2  \\\n",
       "0  https://weather.com/en-IN/india/news/news/2020...   \n",
       "1  https://weather.com/en-IN/india/news/news/2020...   \n",
       "2  https://twitter.com/ANI/status/122422148580539...   \n",
       "\n",
       "                                            Source_3        Backup Notes  \\\n",
       "0                                                NaN  Student from Wuhan   \n",
       "1                                                NaN  Student from Wuhan   \n",
       "2  https://weather.com/en-IN/india/news/news/2020...  Student from Wuhan   \n",
       "\n",
       "  Num cases  \n",
       "0         1  \n",
       "1         1  \n",
       "2         1  \n",
       "\n",
       "[3 rows x 21 columns]"
      ]
     },
     "execution_count": 335,
     "metadata": {},
     "output_type": "execute_result"
    }
   ],
   "source": [
    "df1.head(3)"
   ]
  },
  {
   "cell_type": "markdown",
   "metadata": {},
   "source": [
    "### Data Preparation\n",
    "\n",
    "\n",
    "1) Rename column <b>Num cases </b> to <b>Num Cases</b> in raw_data1 and raw_data2 to avoid confusion. <br><br>\n",
    "2) Drop Column(Estimated Onset Date) and (Backup Notes) from raw_data1 and raw_data2 : No use and not present in further data sets.\n"
   ]
  },
  {
   "cell_type": "code",
   "execution_count": 336,
   "metadata": {},
   "outputs": [
    {
     "data": {
      "text/plain": [
       "(18012, 20)"
      ]
     },
     "execution_count": 336,
     "metadata": {},
     "output_type": "execute_result"
    }
   ],
   "source": [
    "df1.shape #21 Column\n",
    "df2.shape #21 Column\n",
    "df3.shape #20 Column\n",
    "df4.shape #20 Column\n",
    "df5.shape #20 Column\n",
    "df6.shape #20 Column\n",
    "df7.shape #20 Column\n",
    "df8.shape #20 Column\n",
    "df9.shape #20 Column"
   ]
  },
  {
   "cell_type": "code",
   "execution_count": 337,
   "metadata": {},
   "outputs": [],
   "source": [
    "#rename column and drop column\n",
    "df1.rename(columns={\"Num cases\": \"Num Cases\"}, inplace=True)\n",
    "df2.rename(columns={\"Num cases\": \"Num Cases\"}, inplace=True )\n",
    "\n",
    "df1.drop(['Estimated Onset Date', 'Backup Notes'], axis=1,inplace=True)\n",
    "df2.drop(['Estimated Onset Date', 'Backup Notes'], axis=1,inplace=True)"
   ]
  },
  {
   "cell_type": "code",
   "execution_count": 338,
   "metadata": {},
   "outputs": [],
   "source": [
    "# Apppend all Data Set into Single Data set\n",
    "#df=df1.append(df2).append(df3).append(df4).append(df5)\n",
    "df=pd.concat([df1,df2,df3,df4,df5,df6,df7,df8,df9],ignore_index = True)"
   ]
  },
  {
   "cell_type": "code",
   "execution_count": 339,
   "metadata": {},
   "outputs": [
    {
     "data": {
      "text/plain": [
       "(163861, 20)"
      ]
     },
     "execution_count": 339,
     "metadata": {},
     "output_type": "execute_result"
    }
   ],
   "source": [
    "# Row count\n",
    "df.shape\n",
    "## 123054,20"
   ]
  },
  {
   "cell_type": "code",
   "execution_count": 340,
   "metadata": {},
   "outputs": [
    {
     "data": {
      "text/html": [
       "<div>\n",
       "<style scoped>\n",
       "    .dataframe tbody tr th:only-of-type {\n",
       "        vertical-align: middle;\n",
       "    }\n",
       "\n",
       "    .dataframe tbody tr th {\n",
       "        vertical-align: top;\n",
       "    }\n",
       "\n",
       "    .dataframe thead th {\n",
       "        text-align: right;\n",
       "    }\n",
       "</style>\n",
       "<table border=\"1\" class=\"dataframe\">\n",
       "  <thead>\n",
       "    <tr style=\"text-align: right;\">\n",
       "      <th></th>\n",
       "      <th>Patient Number</th>\n",
       "      <th>State Patient Number</th>\n",
       "      <th>Date Announced</th>\n",
       "      <th>Age Bracket</th>\n",
       "      <th>Gender</th>\n",
       "      <th>Detected City</th>\n",
       "      <th>Detected District</th>\n",
       "      <th>Detected State</th>\n",
       "      <th>State code</th>\n",
       "      <th>Current Status</th>\n",
       "      <th>Notes</th>\n",
       "      <th>Contracted from which Patient (Suspected)</th>\n",
       "      <th>Nationality</th>\n",
       "      <th>Type of transmission</th>\n",
       "      <th>Status Change Date</th>\n",
       "      <th>Source_1</th>\n",
       "      <th>Source_2</th>\n",
       "      <th>Source_3</th>\n",
       "      <th>Num Cases</th>\n",
       "      <th>Entry_ID</th>\n",
       "    </tr>\n",
       "  </thead>\n",
       "  <tbody>\n",
       "    <tr>\n",
       "      <th>0</th>\n",
       "      <td>1.0</td>\n",
       "      <td>KL-TS-P1</td>\n",
       "      <td>30/01/2020</td>\n",
       "      <td>20</td>\n",
       "      <td>F</td>\n",
       "      <td>Thrissur</td>\n",
       "      <td>Thrissur</td>\n",
       "      <td>Kerala</td>\n",
       "      <td>KL</td>\n",
       "      <td>Recovered</td>\n",
       "      <td>Travelled from Wuhan</td>\n",
       "      <td>NaN</td>\n",
       "      <td>India</td>\n",
       "      <td>Imported</td>\n",
       "      <td>14/02/2020</td>\n",
       "      <td>https://twitter.com/vijayanpinarayi/status/122...</td>\n",
       "      <td>https://weather.com/en-IN/india/news/news/2020...</td>\n",
       "      <td>NaN</td>\n",
       "      <td>1.0</td>\n",
       "      <td>NaN</td>\n",
       "    </tr>\n",
       "    <tr>\n",
       "      <th>1</th>\n",
       "      <td>2.0</td>\n",
       "      <td>KL-AL-P1</td>\n",
       "      <td>02/02/2020</td>\n",
       "      <td>NaN</td>\n",
       "      <td>NaN</td>\n",
       "      <td>Alappuzha</td>\n",
       "      <td>Alappuzha</td>\n",
       "      <td>Kerala</td>\n",
       "      <td>KL</td>\n",
       "      <td>Recovered</td>\n",
       "      <td>Travelled from Wuhan</td>\n",
       "      <td>NaN</td>\n",
       "      <td>India</td>\n",
       "      <td>Imported</td>\n",
       "      <td>14/02/2020</td>\n",
       "      <td>https://www.indiatoday.in/india/story/kerala-r...</td>\n",
       "      <td>https://weather.com/en-IN/india/news/news/2020...</td>\n",
       "      <td>NaN</td>\n",
       "      <td>1.0</td>\n",
       "      <td>NaN</td>\n",
       "    </tr>\n",
       "    <tr>\n",
       "      <th>2</th>\n",
       "      <td>3.0</td>\n",
       "      <td>KL-KS-P1</td>\n",
       "      <td>03/02/2020</td>\n",
       "      <td>NaN</td>\n",
       "      <td>NaN</td>\n",
       "      <td>Kasaragod</td>\n",
       "      <td>Kasaragod</td>\n",
       "      <td>Kerala</td>\n",
       "      <td>KL</td>\n",
       "      <td>Recovered</td>\n",
       "      <td>Travelled from Wuhan</td>\n",
       "      <td>NaN</td>\n",
       "      <td>India</td>\n",
       "      <td>Imported</td>\n",
       "      <td>14/02/2020</td>\n",
       "      <td>https://www.indiatoday.in/india/story/kerala-n...</td>\n",
       "      <td>https://twitter.com/ANI/status/122422148580539...</td>\n",
       "      <td>https://weather.com/en-IN/india/news/news/2020...</td>\n",
       "      <td>1.0</td>\n",
       "      <td>NaN</td>\n",
       "    </tr>\n",
       "  </tbody>\n",
       "</table>\n",
       "</div>"
      ],
      "text/plain": [
       "   Patient Number State Patient Number Date Announced Age Bracket Gender  \\\n",
       "0             1.0             KL-TS-P1     30/01/2020          20      F   \n",
       "1             2.0             KL-AL-P1     02/02/2020         NaN    NaN   \n",
       "2             3.0             KL-KS-P1     03/02/2020         NaN    NaN   \n",
       "\n",
       "  Detected City Detected District Detected State State code Current Status  \\\n",
       "0      Thrissur          Thrissur         Kerala         KL      Recovered   \n",
       "1     Alappuzha         Alappuzha         Kerala         KL      Recovered   \n",
       "2     Kasaragod         Kasaragod         Kerala         KL      Recovered   \n",
       "\n",
       "                  Notes Contracted from which Patient (Suspected) Nationality  \\\n",
       "0  Travelled from Wuhan                                       NaN       India   \n",
       "1  Travelled from Wuhan                                       NaN       India   \n",
       "2  Travelled from Wuhan                                       NaN       India   \n",
       "\n",
       "  Type of transmission Status Change Date  \\\n",
       "0             Imported         14/02/2020   \n",
       "1             Imported         14/02/2020   \n",
       "2             Imported         14/02/2020   \n",
       "\n",
       "                                            Source_1  \\\n",
       "0  https://twitter.com/vijayanpinarayi/status/122...   \n",
       "1  https://www.indiatoday.in/india/story/kerala-r...   \n",
       "2  https://www.indiatoday.in/india/story/kerala-n...   \n",
       "\n",
       "                                            Source_2  \\\n",
       "0  https://weather.com/en-IN/india/news/news/2020...   \n",
       "1  https://weather.com/en-IN/india/news/news/2020...   \n",
       "2  https://twitter.com/ANI/status/122422148580539...   \n",
       "\n",
       "                                            Source_3  Num Cases  Entry_ID  \n",
       "0                                                NaN        1.0       NaN  \n",
       "1                                                NaN        1.0       NaN  \n",
       "2  https://weather.com/en-IN/india/news/news/2020...        1.0       NaN  "
      ]
     },
     "execution_count": 340,
     "metadata": {},
     "output_type": "execute_result"
    }
   ],
   "source": [
    "df.head(3)"
   ]
  },
  {
   "cell_type": "code",
   "execution_count": 341,
   "metadata": {},
   "outputs": [
    {
     "data": {
      "text/html": [
       "<div>\n",
       "<style scoped>\n",
       "    .dataframe tbody tr th:only-of-type {\n",
       "        vertical-align: middle;\n",
       "    }\n",
       "\n",
       "    .dataframe tbody tr th {\n",
       "        vertical-align: top;\n",
       "    }\n",
       "\n",
       "    .dataframe thead th {\n",
       "        text-align: right;\n",
       "    }\n",
       "</style>\n",
       "<table border=\"1\" class=\"dataframe\">\n",
       "  <thead>\n",
       "    <tr style=\"text-align: right;\">\n",
       "      <th></th>\n",
       "      <th>State Patient Number</th>\n",
       "      <th>Date Announced</th>\n",
       "      <th>Age Bracket</th>\n",
       "      <th>Gender</th>\n",
       "      <th>Detected City</th>\n",
       "      <th>Detected District</th>\n",
       "      <th>Detected State</th>\n",
       "      <th>State code</th>\n",
       "      <th>Current Status</th>\n",
       "      <th>Notes</th>\n",
       "      <th>Contracted from which Patient (Suspected)</th>\n",
       "      <th>Nationality</th>\n",
       "      <th>Type of transmission</th>\n",
       "      <th>Status Change Date</th>\n",
       "      <th>Num Cases</th>\n",
       "      <th>Entry_ID</th>\n",
       "    </tr>\n",
       "  </thead>\n",
       "  <tbody>\n",
       "    <tr>\n",
       "      <th>0</th>\n",
       "      <td>KL-TS-P1</td>\n",
       "      <td>30/01/2020</td>\n",
       "      <td>20</td>\n",
       "      <td>F</td>\n",
       "      <td>Thrissur</td>\n",
       "      <td>Thrissur</td>\n",
       "      <td>Kerala</td>\n",
       "      <td>KL</td>\n",
       "      <td>Recovered</td>\n",
       "      <td>Travelled from Wuhan</td>\n",
       "      <td>NaN</td>\n",
       "      <td>India</td>\n",
       "      <td>Imported</td>\n",
       "      <td>14/02/2020</td>\n",
       "      <td>1.0</td>\n",
       "      <td>NaN</td>\n",
       "    </tr>\n",
       "    <tr>\n",
       "      <th>1</th>\n",
       "      <td>KL-AL-P1</td>\n",
       "      <td>02/02/2020</td>\n",
       "      <td>NaN</td>\n",
       "      <td>NaN</td>\n",
       "      <td>Alappuzha</td>\n",
       "      <td>Alappuzha</td>\n",
       "      <td>Kerala</td>\n",
       "      <td>KL</td>\n",
       "      <td>Recovered</td>\n",
       "      <td>Travelled from Wuhan</td>\n",
       "      <td>NaN</td>\n",
       "      <td>India</td>\n",
       "      <td>Imported</td>\n",
       "      <td>14/02/2020</td>\n",
       "      <td>1.0</td>\n",
       "      <td>NaN</td>\n",
       "    </tr>\n",
       "    <tr>\n",
       "      <th>2</th>\n",
       "      <td>KL-KS-P1</td>\n",
       "      <td>03/02/2020</td>\n",
       "      <td>NaN</td>\n",
       "      <td>NaN</td>\n",
       "      <td>Kasaragod</td>\n",
       "      <td>Kasaragod</td>\n",
       "      <td>Kerala</td>\n",
       "      <td>KL</td>\n",
       "      <td>Recovered</td>\n",
       "      <td>Travelled from Wuhan</td>\n",
       "      <td>NaN</td>\n",
       "      <td>India</td>\n",
       "      <td>Imported</td>\n",
       "      <td>14/02/2020</td>\n",
       "      <td>1.0</td>\n",
       "      <td>NaN</td>\n",
       "    </tr>\n",
       "  </tbody>\n",
       "</table>\n",
       "</div>"
      ],
      "text/plain": [
       "  State Patient Number Date Announced Age Bracket Gender Detected City  \\\n",
       "0             KL-TS-P1     30/01/2020          20      F      Thrissur   \n",
       "1             KL-AL-P1     02/02/2020         NaN    NaN     Alappuzha   \n",
       "2             KL-KS-P1     03/02/2020         NaN    NaN     Kasaragod   \n",
       "\n",
       "  Detected District Detected State State code Current Status  \\\n",
       "0          Thrissur         Kerala         KL      Recovered   \n",
       "1         Alappuzha         Kerala         KL      Recovered   \n",
       "2         Kasaragod         Kerala         KL      Recovered   \n",
       "\n",
       "                  Notes Contracted from which Patient (Suspected) Nationality  \\\n",
       "0  Travelled from Wuhan                                       NaN       India   \n",
       "1  Travelled from Wuhan                                       NaN       India   \n",
       "2  Travelled from Wuhan                                       NaN       India   \n",
       "\n",
       "  Type of transmission Status Change Date  Num Cases  Entry_ID  \n",
       "0             Imported         14/02/2020        1.0       NaN  \n",
       "1             Imported         14/02/2020        1.0       NaN  \n",
       "2             Imported         14/02/2020        1.0       NaN  "
      ]
     },
     "execution_count": 341,
     "metadata": {},
     "output_type": "execute_result"
    }
   ],
   "source": [
    "df.drop(['Source_1','Source_2','Source_3','Patient Number'], axis=1,inplace=True)\n",
    "df.head(3)"
   ]
  },
  {
   "cell_type": "code",
   "execution_count": null,
   "metadata": {},
   "outputs": [],
   "source": []
  },
  {
   "cell_type": "code",
   "execution_count": 342,
   "metadata": {},
   "outputs": [
    {
     "data": {
      "text/html": [
       "<div>\n",
       "<style scoped>\n",
       "    .dataframe tbody tr th:only-of-type {\n",
       "        vertical-align: middle;\n",
       "    }\n",
       "\n",
       "    .dataframe tbody tr th {\n",
       "        vertical-align: top;\n",
       "    }\n",
       "\n",
       "    .dataframe thead th {\n",
       "        text-align: right;\n",
       "    }\n",
       "</style>\n",
       "<table border=\"1\" class=\"dataframe\">\n",
       "  <thead>\n",
       "    <tr style=\"text-align: right;\">\n",
       "      <th></th>\n",
       "      <th>State Patient Number</th>\n",
       "      <th>Date Announced</th>\n",
       "      <th>Age Bracket</th>\n",
       "      <th>Gender</th>\n",
       "      <th>Detected City</th>\n",
       "      <th>Detected District</th>\n",
       "      <th>Detected State</th>\n",
       "      <th>State code</th>\n",
       "      <th>Current Status</th>\n",
       "      <th>Notes</th>\n",
       "      <th>Contracted from which Patient (Suspected)</th>\n",
       "      <th>Nationality</th>\n",
       "      <th>Type of transmission</th>\n",
       "      <th>Status Change Date</th>\n",
       "      <th>Num Cases</th>\n",
       "      <th>Entry_ID</th>\n",
       "    </tr>\n",
       "  </thead>\n",
       "  <tbody>\n",
       "    <tr>\n",
       "      <th>0</th>\n",
       "      <td>KL-TS-P1</td>\n",
       "      <td>30/01/2020</td>\n",
       "      <td>20</td>\n",
       "      <td>F</td>\n",
       "      <td>Thrissur</td>\n",
       "      <td>Thrissur</td>\n",
       "      <td>Kerala</td>\n",
       "      <td>KL</td>\n",
       "      <td>Recovered</td>\n",
       "      <td>Travelled from Wuhan</td>\n",
       "      <td>NaN</td>\n",
       "      <td>India</td>\n",
       "      <td>Imported</td>\n",
       "      <td>14/02/2020</td>\n",
       "      <td>1.0</td>\n",
       "      <td>NaN</td>\n",
       "    </tr>\n",
       "    <tr>\n",
       "      <th>1</th>\n",
       "      <td>KL-AL-P1</td>\n",
       "      <td>02/02/2020</td>\n",
       "      <td>NaN</td>\n",
       "      <td>NaN</td>\n",
       "      <td>Alappuzha</td>\n",
       "      <td>Alappuzha</td>\n",
       "      <td>Kerala</td>\n",
       "      <td>KL</td>\n",
       "      <td>Recovered</td>\n",
       "      <td>Travelled from Wuhan</td>\n",
       "      <td>NaN</td>\n",
       "      <td>India</td>\n",
       "      <td>Imported</td>\n",
       "      <td>14/02/2020</td>\n",
       "      <td>1.0</td>\n",
       "      <td>NaN</td>\n",
       "    </tr>\n",
       "    <tr>\n",
       "      <th>2</th>\n",
       "      <td>KL-KS-P1</td>\n",
       "      <td>03/02/2020</td>\n",
       "      <td>NaN</td>\n",
       "      <td>NaN</td>\n",
       "      <td>Kasaragod</td>\n",
       "      <td>Kasaragod</td>\n",
       "      <td>Kerala</td>\n",
       "      <td>KL</td>\n",
       "      <td>Recovered</td>\n",
       "      <td>Travelled from Wuhan</td>\n",
       "      <td>NaN</td>\n",
       "      <td>India</td>\n",
       "      <td>Imported</td>\n",
       "      <td>14/02/2020</td>\n",
       "      <td>1.0</td>\n",
       "      <td>NaN</td>\n",
       "    </tr>\n",
       "  </tbody>\n",
       "</table>\n",
       "</div>"
      ],
      "text/plain": [
       "  State Patient Number Date Announced Age Bracket Gender Detected City  \\\n",
       "0             KL-TS-P1     30/01/2020          20      F      Thrissur   \n",
       "1             KL-AL-P1     02/02/2020         NaN    NaN     Alappuzha   \n",
       "2             KL-KS-P1     03/02/2020         NaN    NaN     Kasaragod   \n",
       "\n",
       "  Detected District Detected State State code Current Status  \\\n",
       "0          Thrissur         Kerala         KL      Recovered   \n",
       "1         Alappuzha         Kerala         KL      Recovered   \n",
       "2         Kasaragod         Kerala         KL      Recovered   \n",
       "\n",
       "                  Notes Contracted from which Patient (Suspected) Nationality  \\\n",
       "0  Travelled from Wuhan                                       NaN       India   \n",
       "1  Travelled from Wuhan                                       NaN       India   \n",
       "2  Travelled from Wuhan                                       NaN       India   \n",
       "\n",
       "  Type of transmission Status Change Date  Num Cases  Entry_ID  \n",
       "0             Imported         14/02/2020        1.0       NaN  \n",
       "1             Imported         14/02/2020        1.0       NaN  \n",
       "2             Imported         14/02/2020        1.0       NaN  "
      ]
     },
     "execution_count": 342,
     "metadata": {},
     "output_type": "execute_result"
    }
   ],
   "source": [
    "# Null value on Num Case\n",
    "dfd=df[df['Num Cases'].isnull()]\n",
    "df.dropna(subset=['Num Cases'],inplace = True)\n",
    "df.dropna(how = \"all\", inplace = True)\n",
    "df.head(3)"
   ]
  },
  {
   "cell_type": "code",
   "execution_count": 343,
   "metadata": {},
   "outputs": [
    {
     "name": "stdout",
     "output_type": "stream",
     "text": [
      "Till here total No of case are 1407820.0\n"
     ]
    }
   ],
   "source": [
    "print(\"Till here total No of case are\",df['Num Cases'].sum()) #943748"
   ]
  },
  {
   "cell_type": "markdown",
   "metadata": {},
   "source": [
    "### Memory optimization : changing of data type"
   ]
  },
  {
   "cell_type": "code",
   "execution_count": 344,
   "metadata": {},
   "outputs": [
    {
     "name": "stdout",
     "output_type": "stream",
     "text": [
      "<class 'pandas.core.frame.DataFrame'>\n",
      "Int64Index: 163600 entries, 0 to 163602\n",
      "Data columns (total 16 columns):\n",
      " #   Column                                     Non-Null Count   Dtype  \n",
      "---  ------                                     --------------   -----  \n",
      " 0   State Patient Number                       61187 non-null   object \n",
      " 1   Date Announced                             163600 non-null  object \n",
      " 2   Age Bracket                                69753 non-null   object \n",
      " 3   Gender                                     72550 non-null   object \n",
      " 4   Detected City                              11051 non-null   object \n",
      " 5   Detected District                          155099 non-null  object \n",
      " 6   Detected State                             163594 non-null  object \n",
      " 7   State code                                 163594 non-null  object \n",
      " 8   Current Status                             163598 non-null  object \n",
      " 9   Notes                                      67314 non-null   object \n",
      " 10  Contracted from which Patient (Suspected)  1923 non-null    object \n",
      " 11  Nationality                                2709 non-null    object \n",
      " 12  Type of transmission                       2990 non-null    object \n",
      " 13  Status Change Date                         27780 non-null   object \n",
      " 14  Num Cases                                  163600 non-null  float64\n",
      " 15  Entry_ID                                   135415 non-null  float64\n",
      "dtypes: float64(2), object(14)\n",
      "memory usage: 21.2+ MB\n"
     ]
    }
   ],
   "source": [
    "df.info()"
   ]
  },
  {
   "cell_type": "code",
   "execution_count": 345,
   "metadata": {},
   "outputs": [
    {
     "data": {
      "text/plain": [
       "State Patient Number                          46470\n",
       "Date Announced                                  136\n",
       "Age Bracket                                     231\n",
       "Gender                                            4\n",
       "Detected City                                  2155\n",
       "Detected District                               770\n",
       "Detected State                                   36\n",
       "State code                                       36\n",
       "Current Status                                    6\n",
       "Notes                                          5531\n",
       "Contracted from which Patient (Suspected)       303\n",
       "Nationality                                      12\n",
       "Type of transmission                              5\n",
       "Status Change Date                               55\n",
       "Num Cases                                      1037\n",
       "Entry_ID                                     135364\n",
       "dtype: int64"
      ]
     },
     "execution_count": 345,
     "metadata": {},
     "output_type": "execute_result"
    }
   ],
   "source": [
    "df.nunique()"
   ]
  },
  {
   "cell_type": "code",
   "execution_count": 346,
   "metadata": {},
   "outputs": [],
   "source": [
    "df[\"Num Cases\"].fillna(0, inplace = True)"
   ]
  },
  {
   "cell_type": "code",
   "execution_count": 347,
   "metadata": {},
   "outputs": [],
   "source": [
    "df[\"Num Cases\"] = df[\"Num Cases\"].astype(\"int\")\n",
    "df[\"Current Status\"] = df[\"Current Status\"].astype(\"category\")\n",
    "df[\"Type of transmission\"] = df[\"Type of transmission\"].astype(\"category\")"
   ]
  },
  {
   "cell_type": "markdown",
   "metadata": {},
   "source": [
    "### Gender Column fix "
   ]
  },
  {
   "cell_type": "code",
   "execution_count": 348,
   "metadata": {},
   "outputs": [
    {
     "data": {
      "text/plain": [
       "M             48256\n",
       "F             24281\n",
       "Non-Binary       12\n",
       "M                 1\n",
       "Name: Gender, dtype: int64"
      ]
     },
     "execution_count": 348,
     "metadata": {},
     "output_type": "execute_result"
    }
   ],
   "source": [
    "df[\"Gender\"].value_counts()"
   ]
  },
  {
   "cell_type": "code",
   "execution_count": null,
   "metadata": {},
   "outputs": [],
   "source": []
  },
  {
   "cell_type": "code",
   "execution_count": 349,
   "metadata": {},
   "outputs": [
    {
     "data": {
      "text/plain": [
       "NA    91062\n",
       "M     48257\n",
       "F     24281\n",
       "Name: Gender, dtype: int64"
      ]
     },
     "execution_count": 349,
     "metadata": {},
     "output_type": "execute_result"
    }
   ],
   "source": [
    "# removing whitespace in Gender Column and replacing Non-Binary with NA\n",
    "df['Gender'] = df['Gender'].str.strip()\n",
    "df['Gender'] = df['Gender'].str.replace('Non-Binary','NA')\n",
    "df[\"Gender\"] = df[\"Gender\"].astype(\"category\")\n",
    "df[\"Gender\"].fillna('NA', inplace = True)\n",
    "df[\"Gender\"].value_counts()"
   ]
  },
  {
   "cell_type": "code",
   "execution_count": 350,
   "metadata": {},
   "outputs": [
    {
     "name": "stdout",
     "output_type": "stream",
     "text": [
      "<class 'pandas.core.frame.DataFrame'>\n",
      "Int64Index: 163600 entries, 0 to 163602\n",
      "Data columns (total 16 columns):\n",
      " #   Column                                     Non-Null Count   Dtype   \n",
      "---  ------                                     --------------   -----   \n",
      " 0   State Patient Number                       61187 non-null   object  \n",
      " 1   Date Announced                             163600 non-null  object  \n",
      " 2   Age Bracket                                69753 non-null   object  \n",
      " 3   Gender                                     163600 non-null  category\n",
      " 4   Detected City                              11051 non-null   object  \n",
      " 5   Detected District                          155099 non-null  object  \n",
      " 6   Detected State                             163594 non-null  object  \n",
      " 7   State code                                 163594 non-null  object  \n",
      " 8   Current Status                             163598 non-null  category\n",
      " 9   Notes                                      67314 non-null   object  \n",
      " 10  Contracted from which Patient (Suspected)  1923 non-null    object  \n",
      " 11  Nationality                                2709 non-null    object  \n",
      " 12  Type of transmission                       2990 non-null    category\n",
      " 13  Status Change Date                         27780 non-null   object  \n",
      " 14  Num Cases                                  163600 non-null  int32   \n",
      " 15  Entry_ID                                   135415 non-null  float64 \n",
      "dtypes: category(3), float64(1), int32(1), object(11)\n",
      "memory usage: 17.3+ MB\n"
     ]
    }
   ],
   "source": [
    "df.head(3)\n",
    "df.info()\n"
   ]
  },
  {
   "cell_type": "code",
   "execution_count": 351,
   "metadata": {},
   "outputs": [
    {
     "data": {
      "text/plain": [
       "0.7988165680473374"
      ]
     },
     "execution_count": 351,
     "metadata": {},
     "output_type": "execute_result"
    }
   ],
   "source": [
    "13.5/16.9\n",
    "#~20% size decreased"
   ]
  },
  {
   "cell_type": "code",
   "execution_count": 352,
   "metadata": {},
   "outputs": [],
   "source": [
    "df.head(3)\n",
    "df.reset_index(drop=True, inplace=True)"
   ]
  },
  {
   "cell_type": "code",
   "execution_count": 353,
   "metadata": {},
   "outputs": [
    {
     "data": {
      "text/plain": [
       "array(['State Patient Number', 'Date Announced', 'Age Bracket', 'Gender',\n",
       "       'Detected City', 'Detected District', 'Detected State',\n",
       "       'State code', 'Current Status', 'Notes',\n",
       "       'Contracted from which Patient (Suspected)', 'Nationality',\n",
       "       'Type of transmission', 'Status Change Date', 'Num Cases',\n",
       "       'Entry_ID'], dtype=object)"
      ]
     },
     "execution_count": 353,
     "metadata": {},
     "output_type": "execute_result"
    }
   ],
   "source": [
    "df.columns.values"
   ]
  },
  {
   "cell_type": "code",
   "execution_count": 354,
   "metadata": {},
   "outputs": [
    {
     "data": {
      "text/html": [
       "<div>\n",
       "<style scoped>\n",
       "    .dataframe tbody tr th:only-of-type {\n",
       "        vertical-align: middle;\n",
       "    }\n",
       "\n",
       "    .dataframe tbody tr th {\n",
       "        vertical-align: top;\n",
       "    }\n",
       "\n",
       "    .dataframe thead th {\n",
       "        text-align: right;\n",
       "    }\n",
       "</style>\n",
       "<table border=\"1\" class=\"dataframe\">\n",
       "  <thead>\n",
       "    <tr style=\"text-align: right;\">\n",
       "      <th></th>\n",
       "      <th>State Patient Number</th>\n",
       "      <th>Date Announced</th>\n",
       "      <th>Age Bracket</th>\n",
       "      <th>Gender</th>\n",
       "      <th>Detected City</th>\n",
       "      <th>Detected District</th>\n",
       "      <th>Detected State</th>\n",
       "      <th>State code</th>\n",
       "      <th>Current Status</th>\n",
       "      <th>Notes</th>\n",
       "      <th>Contracted from which Patient (Suspected)</th>\n",
       "      <th>Nationality</th>\n",
       "      <th>Type of transmission</th>\n",
       "      <th>Status Change Date</th>\n",
       "      <th>Num Cases</th>\n",
       "      <th>Entry_ID</th>\n",
       "    </tr>\n",
       "  </thead>\n",
       "  <tbody>\n",
       "    <tr>\n",
       "      <th>0</th>\n",
       "      <td>KL-TS-P1</td>\n",
       "      <td>30/01/2020</td>\n",
       "      <td>20</td>\n",
       "      <td>F</td>\n",
       "      <td>Thrissur</td>\n",
       "      <td>Thrissur</td>\n",
       "      <td>Kerala</td>\n",
       "      <td>KL</td>\n",
       "      <td>Recovered</td>\n",
       "      <td>Travelled from Wuhan</td>\n",
       "      <td>NaN</td>\n",
       "      <td>India</td>\n",
       "      <td>Imported</td>\n",
       "      <td>14/02/2020</td>\n",
       "      <td>1</td>\n",
       "      <td>NaN</td>\n",
       "    </tr>\n",
       "    <tr>\n",
       "      <th>1</th>\n",
       "      <td>KL-AL-P1</td>\n",
       "      <td>02/02/2020</td>\n",
       "      <td>NaN</td>\n",
       "      <td>NA</td>\n",
       "      <td>Alappuzha</td>\n",
       "      <td>Alappuzha</td>\n",
       "      <td>Kerala</td>\n",
       "      <td>KL</td>\n",
       "      <td>Recovered</td>\n",
       "      <td>Travelled from Wuhan</td>\n",
       "      <td>NaN</td>\n",
       "      <td>India</td>\n",
       "      <td>Imported</td>\n",
       "      <td>14/02/2020</td>\n",
       "      <td>1</td>\n",
       "      <td>NaN</td>\n",
       "    </tr>\n",
       "    <tr>\n",
       "      <th>2</th>\n",
       "      <td>KL-KS-P1</td>\n",
       "      <td>03/02/2020</td>\n",
       "      <td>NaN</td>\n",
       "      <td>NA</td>\n",
       "      <td>Kasaragod</td>\n",
       "      <td>Kasaragod</td>\n",
       "      <td>Kerala</td>\n",
       "      <td>KL</td>\n",
       "      <td>Recovered</td>\n",
       "      <td>Travelled from Wuhan</td>\n",
       "      <td>NaN</td>\n",
       "      <td>India</td>\n",
       "      <td>Imported</td>\n",
       "      <td>14/02/2020</td>\n",
       "      <td>1</td>\n",
       "      <td>NaN</td>\n",
       "    </tr>\n",
       "  </tbody>\n",
       "</table>\n",
       "</div>"
      ],
      "text/plain": [
       "  State Patient Number Date Announced Age Bracket Gender Detected City  \\\n",
       "0             KL-TS-P1     30/01/2020          20      F      Thrissur   \n",
       "1             KL-AL-P1     02/02/2020         NaN     NA     Alappuzha   \n",
       "2             KL-KS-P1     03/02/2020         NaN     NA     Kasaragod   \n",
       "\n",
       "  Detected District Detected State State code Current Status  \\\n",
       "0          Thrissur         Kerala         KL      Recovered   \n",
       "1         Alappuzha         Kerala         KL      Recovered   \n",
       "2         Kasaragod         Kerala         KL      Recovered   \n",
       "\n",
       "                  Notes Contracted from which Patient (Suspected) Nationality  \\\n",
       "0  Travelled from Wuhan                                       NaN       India   \n",
       "1  Travelled from Wuhan                                       NaN       India   \n",
       "2  Travelled from Wuhan                                       NaN       India   \n",
       "\n",
       "  Type of transmission Status Change Date  Num Cases  Entry_ID  \n",
       "0             Imported         14/02/2020          1       NaN  \n",
       "1             Imported         14/02/2020          1       NaN  \n",
       "2             Imported         14/02/2020          1       NaN  "
      ]
     },
     "execution_count": 354,
     "metadata": {},
     "output_type": "execute_result"
    }
   ],
   "source": [
    "df.head(3)\n",
    "#123051"
   ]
  },
  {
   "cell_type": "markdown",
   "metadata": {},
   "source": [
    "### Age Column datatype fix"
   ]
  },
  {
   "cell_type": "code",
   "execution_count": 355,
   "metadata": {},
   "outputs": [],
   "source": [
    "df['Age Bracket'].fillna(0, inplace = True)"
   ]
  },
  {
   "cell_type": "code",
   "execution_count": 356,
   "metadata": {},
   "outputs": [],
   "source": [
    "df['Age Bracket'] = df['Age Bracket'].astype(\"str\")"
   ]
  },
  {
   "cell_type": "code",
   "execution_count": 357,
   "metadata": {},
   "outputs": [],
   "source": [
    "df['Age Bracket'] = df['Age Bracket'].str.replace('28-35','29')\n",
    "df['Age Bracket'] = df['Age Bracket'].str.replace('18-28','23')\n",
    "df['Age Bracket'] = df['Age Bracket'].str.replace('6 Months','0.5')\n",
    "df['Age Bracket'] = df['Age Bracket'].str.replace('5 months','0.5')\n",
    "df['Age Bracket'] = df['Age Bracket'].str.replace('5 Months','0.5')\n",
    "df['Age Bracket'] = df['Age Bracket'].str.replace('9 Months','1')\n",
    "df['Age Bracket'] = df['Age Bracket'].str.replace('8 month','0.8')\n",
    "df['Age Bracket'] = df['Age Bracket'].str.replace('9 Month','1')\n",
    "df['Age Bracket'] = df['Age Bracket'].str.replace('1 DAY','1')"
   ]
  },
  {
   "cell_type": "code",
   "execution_count": 358,
   "metadata": {},
   "outputs": [],
   "source": [
    "df['Age Bracket'] = df['Age Bracket'].astype(\"float\")"
   ]
  },
  {
   "cell_type": "code",
   "execution_count": 359,
   "metadata": {},
   "outputs": [],
   "source": [
    "df['Age Bracket'] = df['Age Bracket'].astype(\"int\")"
   ]
  },
  {
   "cell_type": "code",
   "execution_count": 360,
   "metadata": {},
   "outputs": [
    {
     "data": {
      "text/plain": [
       "array([ 20,   0,  45,  24,  69,  55,  70,  16,  27,  59,  65,  75,  54,\n",
       "        53,  61,  25,  63,  46,   3,  48,  40,  47,  13,  96,  89,  85,\n",
       "        68,  26,  33,  76,  37,  43,  21,  42,  44,  51,  31,  32,  29,\n",
       "        67,  49,  52,  22,  18,  34,  28,  56,  35,  50,  30,  38,  23,\n",
       "        19,  58,  41,   2,  60,  74,  39,  17,  36,  57,  64,  81,  62,\n",
       "        73,   9,   7,  66,  12,   1,  14,  11,   6,  92,  72,  15,  77,\n",
       "        10,  80,  71,  78,  79,  90,   4,   8,   5,  88,  98,  83,  82,\n",
       "        84,  87,  86,  95,  94,  99,  91,  93,  97, 100])"
      ]
     },
     "execution_count": 360,
     "metadata": {},
     "output_type": "execute_result"
    }
   ],
   "source": [
    "df['Age Bracket'].unique()"
   ]
  },
  {
   "cell_type": "code",
   "execution_count": 361,
   "metadata": {},
   "outputs": [
    {
     "data": {
      "text/html": [
       "<div>\n",
       "<style scoped>\n",
       "    .dataframe tbody tr th:only-of-type {\n",
       "        vertical-align: middle;\n",
       "    }\n",
       "\n",
       "    .dataframe tbody tr th {\n",
       "        vertical-align: top;\n",
       "    }\n",
       "\n",
       "    .dataframe thead th {\n",
       "        text-align: right;\n",
       "    }\n",
       "</style>\n",
       "<table border=\"1\" class=\"dataframe\">\n",
       "  <thead>\n",
       "    <tr style=\"text-align: right;\">\n",
       "      <th></th>\n",
       "      <th>State Patient Number</th>\n",
       "      <th>Date Announced</th>\n",
       "      <th>Age Bracket</th>\n",
       "      <th>Gender</th>\n",
       "      <th>Detected City</th>\n",
       "      <th>Detected District</th>\n",
       "      <th>Detected State</th>\n",
       "      <th>State code</th>\n",
       "      <th>Current Status</th>\n",
       "      <th>Notes</th>\n",
       "      <th>Contracted from which Patient (Suspected)</th>\n",
       "      <th>Nationality</th>\n",
       "      <th>Type of transmission</th>\n",
       "      <th>Status Change Date</th>\n",
       "      <th>Num Cases</th>\n",
       "      <th>Entry_ID</th>\n",
       "    </tr>\n",
       "  </thead>\n",
       "  <tbody>\n",
       "    <tr>\n",
       "      <th>0</th>\n",
       "      <td>KL-TS-P1</td>\n",
       "      <td>30/01/2020</td>\n",
       "      <td>20</td>\n",
       "      <td>F</td>\n",
       "      <td>Thrissur</td>\n",
       "      <td>Thrissur</td>\n",
       "      <td>Kerala</td>\n",
       "      <td>KL</td>\n",
       "      <td>Recovered</td>\n",
       "      <td>Travelled from Wuhan</td>\n",
       "      <td>NaN</td>\n",
       "      <td>India</td>\n",
       "      <td>Imported</td>\n",
       "      <td>14/02/2020</td>\n",
       "      <td>1</td>\n",
       "      <td>NaN</td>\n",
       "    </tr>\n",
       "    <tr>\n",
       "      <th>1</th>\n",
       "      <td>KL-AL-P1</td>\n",
       "      <td>02/02/2020</td>\n",
       "      <td>0</td>\n",
       "      <td>NA</td>\n",
       "      <td>Alappuzha</td>\n",
       "      <td>Alappuzha</td>\n",
       "      <td>Kerala</td>\n",
       "      <td>KL</td>\n",
       "      <td>Recovered</td>\n",
       "      <td>Travelled from Wuhan</td>\n",
       "      <td>NaN</td>\n",
       "      <td>India</td>\n",
       "      <td>Imported</td>\n",
       "      <td>14/02/2020</td>\n",
       "      <td>1</td>\n",
       "      <td>NaN</td>\n",
       "    </tr>\n",
       "  </tbody>\n",
       "</table>\n",
       "</div>"
      ],
      "text/plain": [
       "  State Patient Number Date Announced  Age Bracket Gender Detected City  \\\n",
       "0             KL-TS-P1     30/01/2020           20      F      Thrissur   \n",
       "1             KL-AL-P1     02/02/2020            0     NA     Alappuzha   \n",
       "\n",
       "  Detected District Detected State State code Current Status  \\\n",
       "0          Thrissur         Kerala         KL      Recovered   \n",
       "1         Alappuzha         Kerala         KL      Recovered   \n",
       "\n",
       "                  Notes Contracted from which Patient (Suspected) Nationality  \\\n",
       "0  Travelled from Wuhan                                       NaN       India   \n",
       "1  Travelled from Wuhan                                       NaN       India   \n",
       "\n",
       "  Type of transmission Status Change Date  Num Cases  Entry_ID  \n",
       "0             Imported         14/02/2020          1       NaN  \n",
       "1             Imported         14/02/2020          1       NaN  "
      ]
     },
     "execution_count": 361,
     "metadata": {},
     "output_type": "execute_result"
    }
   ],
   "source": [
    "df.head(2)"
   ]
  },
  {
   "cell_type": "markdown",
   "metadata": {},
   "source": [
    "### Data Column Fix"
   ]
  },
  {
   "cell_type": "code",
   "execution_count": 362,
   "metadata": {},
   "outputs": [],
   "source": [
    "df['Date Announced']=pd.to_datetime(df['Date Announced'], format='%d/%m/%Y')"
   ]
  },
  {
   "cell_type": "markdown",
   "metadata": {},
   "source": [
    "## Creating working Dataset df_new"
   ]
  },
  {
   "cell_type": "code",
   "execution_count": 363,
   "metadata": {},
   "outputs": [
    {
     "data": {
      "text/html": [
       "<div>\n",
       "<style scoped>\n",
       "    .dataframe tbody tr th:only-of-type {\n",
       "        vertical-align: middle;\n",
       "    }\n",
       "\n",
       "    .dataframe tbody tr th {\n",
       "        vertical-align: top;\n",
       "    }\n",
       "\n",
       "    .dataframe thead th {\n",
       "        text-align: right;\n",
       "    }\n",
       "</style>\n",
       "<table border=\"1\" class=\"dataframe\">\n",
       "  <thead>\n",
       "    <tr style=\"text-align: right;\">\n",
       "      <th></th>\n",
       "      <th>Date Announced</th>\n",
       "      <th>Age Bracket</th>\n",
       "      <th>Gender</th>\n",
       "      <th>Detected City</th>\n",
       "      <th>Detected District</th>\n",
       "      <th>Detected State</th>\n",
       "      <th>State code</th>\n",
       "      <th>Current Status</th>\n",
       "      <th>Nationality</th>\n",
       "      <th>Num Cases</th>\n",
       "    </tr>\n",
       "  </thead>\n",
       "  <tbody>\n",
       "    <tr>\n",
       "      <th>0</th>\n",
       "      <td>2020-01-30</td>\n",
       "      <td>20</td>\n",
       "      <td>F</td>\n",
       "      <td>Thrissur</td>\n",
       "      <td>Thrissur</td>\n",
       "      <td>Kerala</td>\n",
       "      <td>KL</td>\n",
       "      <td>Recovered</td>\n",
       "      <td>India</td>\n",
       "      <td>1</td>\n",
       "    </tr>\n",
       "    <tr>\n",
       "      <th>1</th>\n",
       "      <td>2020-02-02</td>\n",
       "      <td>0</td>\n",
       "      <td>NA</td>\n",
       "      <td>Alappuzha</td>\n",
       "      <td>Alappuzha</td>\n",
       "      <td>Kerala</td>\n",
       "      <td>KL</td>\n",
       "      <td>Recovered</td>\n",
       "      <td>India</td>\n",
       "      <td>1</td>\n",
       "    </tr>\n",
       "    <tr>\n",
       "      <th>2</th>\n",
       "      <td>2020-02-03</td>\n",
       "      <td>0</td>\n",
       "      <td>NA</td>\n",
       "      <td>Kasaragod</td>\n",
       "      <td>Kasaragod</td>\n",
       "      <td>Kerala</td>\n",
       "      <td>KL</td>\n",
       "      <td>Recovered</td>\n",
       "      <td>India</td>\n",
       "      <td>1</td>\n",
       "    </tr>\n",
       "    <tr>\n",
       "      <th>3</th>\n",
       "      <td>2020-03-02</td>\n",
       "      <td>45</td>\n",
       "      <td>M</td>\n",
       "      <td>East Delhi (Mayur Vihar)</td>\n",
       "      <td>East Delhi</td>\n",
       "      <td>Delhi</td>\n",
       "      <td>DL</td>\n",
       "      <td>Recovered</td>\n",
       "      <td>India</td>\n",
       "      <td>1</td>\n",
       "    </tr>\n",
       "    <tr>\n",
       "      <th>4</th>\n",
       "      <td>2020-03-02</td>\n",
       "      <td>24</td>\n",
       "      <td>M</td>\n",
       "      <td>Hyderabad</td>\n",
       "      <td>Hyderabad</td>\n",
       "      <td>Telangana</td>\n",
       "      <td>TG</td>\n",
       "      <td>Recovered</td>\n",
       "      <td>India</td>\n",
       "      <td>1</td>\n",
       "    </tr>\n",
       "  </tbody>\n",
       "</table>\n",
       "</div>"
      ],
      "text/plain": [
       "  Date Announced  Age Bracket Gender             Detected City  \\\n",
       "0     2020-01-30           20      F                  Thrissur   \n",
       "1     2020-02-02            0     NA                 Alappuzha   \n",
       "2     2020-02-03            0     NA                 Kasaragod   \n",
       "3     2020-03-02           45      M  East Delhi (Mayur Vihar)   \n",
       "4     2020-03-02           24      M                 Hyderabad   \n",
       "\n",
       "  Detected District Detected State State code Current Status Nationality  \\\n",
       "0          Thrissur         Kerala         KL      Recovered       India   \n",
       "1         Alappuzha         Kerala         KL      Recovered       India   \n",
       "2         Kasaragod         Kerala         KL      Recovered       India   \n",
       "3        East Delhi          Delhi         DL      Recovered       India   \n",
       "4         Hyderabad      Telangana         TG      Recovered       India   \n",
       "\n",
       "   Num Cases  \n",
       "0          1  \n",
       "1          1  \n",
       "2          1  \n",
       "3          1  \n",
       "4          1  "
      ]
     },
     "execution_count": 363,
     "metadata": {},
     "output_type": "execute_result"
    }
   ],
   "source": [
    "df_new=df[['Date Announced','Age Bracket','Gender','Detected City','Detected District','Detected State','State code','Current Status','Nationality','Num Cases']]\n",
    "df_new.head()"
   ]
  },
  {
   "cell_type": "code",
   "execution_count": 364,
   "metadata": {},
   "outputs": [],
   "source": [
    "# df_new_mh=df_new['State code']=='MH'"
   ]
  },
  {
   "cell_type": "markdown",
   "metadata": {},
   "source": [
    "### Total Confirmed case Statewise"
   ]
  },
  {
   "cell_type": "code",
   "execution_count": 365,
   "metadata": {},
   "outputs": [
    {
     "data": {
      "text/html": [
       "<div>\n",
       "<style scoped>\n",
       "    .dataframe tbody tr th:only-of-type {\n",
       "        vertical-align: middle;\n",
       "    }\n",
       "\n",
       "    .dataframe tbody tr th {\n",
       "        vertical-align: top;\n",
       "    }\n",
       "\n",
       "    .dataframe thead th {\n",
       "        text-align: right;\n",
       "    }\n",
       "</style>\n",
       "<table border=\"1\" class=\"dataframe\">\n",
       "  <thead>\n",
       "    <tr style=\"text-align: right;\">\n",
       "      <th></th>\n",
       "      <th>Date Announced</th>\n",
       "      <th>Age Bracket</th>\n",
       "      <th>Gender</th>\n",
       "      <th>Detected City</th>\n",
       "      <th>Detected District</th>\n",
       "      <th>Detected State</th>\n",
       "      <th>State code</th>\n",
       "      <th>Current Status</th>\n",
       "      <th>Nationality</th>\n",
       "      <th>Num Cases</th>\n",
       "    </tr>\n",
       "  </thead>\n",
       "  <tbody>\n",
       "    <tr>\n",
       "      <th>18</th>\n",
       "      <td>2020-03-04</td>\n",
       "      <td>55</td>\n",
       "      <td>NA</td>\n",
       "      <td>Gurugram</td>\n",
       "      <td>Italians</td>\n",
       "      <td>Haryana</td>\n",
       "      <td>HR</td>\n",
       "      <td>Hospitalized</td>\n",
       "      <td>Italy</td>\n",
       "      <td>1</td>\n",
       "    </tr>\n",
       "    <tr>\n",
       "      <th>19</th>\n",
       "      <td>2020-03-04</td>\n",
       "      <td>55</td>\n",
       "      <td>NA</td>\n",
       "      <td>Gurugram</td>\n",
       "      <td>Italians</td>\n",
       "      <td>Haryana</td>\n",
       "      <td>HR</td>\n",
       "      <td>Hospitalized</td>\n",
       "      <td>Italy</td>\n",
       "      <td>1</td>\n",
       "    </tr>\n",
       "    <tr>\n",
       "      <th>21</th>\n",
       "      <td>2020-03-04</td>\n",
       "      <td>0</td>\n",
       "      <td>M</td>\n",
       "      <td>Agra</td>\n",
       "      <td>Agra</td>\n",
       "      <td>Uttar Pradesh</td>\n",
       "      <td>UP</td>\n",
       "      <td>Hospitalized</td>\n",
       "      <td>India</td>\n",
       "      <td>1</td>\n",
       "    </tr>\n",
       "  </tbody>\n",
       "</table>\n",
       "</div>"
      ],
      "text/plain": [
       "   Date Announced  Age Bracket Gender Detected City Detected District  \\\n",
       "18     2020-03-04           55     NA      Gurugram          Italians   \n",
       "19     2020-03-04           55     NA      Gurugram          Italians   \n",
       "21     2020-03-04            0      M          Agra              Agra   \n",
       "\n",
       "   Detected State State code Current Status Nationality  Num Cases  \n",
       "18        Haryana         HR   Hospitalized       Italy          1  \n",
       "19        Haryana         HR   Hospitalized       Italy          1  \n",
       "21  Uttar Pradesh         UP   Hospitalized       India          1  "
      ]
     },
     "execution_count": 365,
     "metadata": {},
     "output_type": "execute_result"
    }
   ],
   "source": [
    "df_new_hospitalized=df_new['Current Status']=='Hospitalized'\n",
    "\n",
    "df_confirmed=df_new[df_new_hospitalized]\n",
    "\n",
    "df_confirmed.head(3)"
   ]
  },
  {
   "cell_type": "markdown",
   "metadata": {},
   "source": [
    "#### Statewise Count || Total Case"
   ]
  },
  {
   "cell_type": "code",
   "execution_count": 366,
   "metadata": {},
   "outputs": [
    {
     "data": {
      "text/html": [
       "<div>\n",
       "<style scoped>\n",
       "    .dataframe tbody tr th:only-of-type {\n",
       "        vertical-align: middle;\n",
       "    }\n",
       "\n",
       "    .dataframe tbody tr th {\n",
       "        vertical-align: top;\n",
       "    }\n",
       "\n",
       "    .dataframe thead th {\n",
       "        text-align: right;\n",
       "    }\n",
       "</style>\n",
       "<table border=\"1\" class=\"dataframe\">\n",
       "  <thead>\n",
       "    <tr style=\"text-align: right;\">\n",
       "      <th></th>\n",
       "      <th>Num Cases</th>\n",
       "    </tr>\n",
       "    <tr>\n",
       "      <th>State code</th>\n",
       "      <th></th>\n",
       "    </tr>\n",
       "  </thead>\n",
       "  <tbody>\n",
       "    <tr>\n",
       "      <th>MH</th>\n",
       "      <td>246586</td>\n",
       "    </tr>\n",
       "    <tr>\n",
       "      <th>TN</th>\n",
       "      <td>134219</td>\n",
       "    </tr>\n",
       "    <tr>\n",
       "      <th>DL</th>\n",
       "      <td>110917</td>\n",
       "    </tr>\n",
       "    <tr>\n",
       "      <th>GJ</th>\n",
       "      <td>41022</td>\n",
       "    </tr>\n",
       "    <tr>\n",
       "      <th>KA</th>\n",
       "      <td>36143</td>\n",
       "    </tr>\n",
       "    <tr>\n",
       "      <th>UP</th>\n",
       "      <td>35083</td>\n",
       "    </tr>\n",
       "    <tr>\n",
       "      <th>TG</th>\n",
       "      <td>33400</td>\n",
       "    </tr>\n",
       "    <tr>\n",
       "      <th>AP</th>\n",
       "      <td>29166</td>\n",
       "    </tr>\n",
       "    <tr>\n",
       "      <th>WB</th>\n",
       "      <td>28447</td>\n",
       "    </tr>\n",
       "    <tr>\n",
       "      <th>RJ</th>\n",
       "      <td>23897</td>\n",
       "    </tr>\n",
       "  </tbody>\n",
       "</table>\n",
       "</div>"
      ],
      "text/plain": [
       "            Num Cases\n",
       "State code           \n",
       "MH             246586\n",
       "TN             134219\n",
       "DL             110917\n",
       "GJ              41022\n",
       "KA              36143\n",
       "UP              35083\n",
       "TG              33400\n",
       "AP              29166\n",
       "WB              28447\n",
       "RJ              23897"
      ]
     },
     "execution_count": 366,
     "metadata": {},
     "output_type": "execute_result"
    }
   ],
   "source": [
    "statewise_count = df_confirmed.groupby(\"State code\")[[\"Num Cases\"]].sum().sort_values(by='Num Cases', ascending=False)\n",
    "#statewise_count[[\"Num Cases\"]].sum()\n",
    "\n",
    "statewise_count.head(10)"
   ]
  },
  {
   "cell_type": "markdown",
   "metadata": {},
   "source": [
    "#### Statewise age group count"
   ]
  },
  {
   "cell_type": "code",
   "execution_count": 367,
   "metadata": {},
   "outputs": [],
   "source": [
    "df_confirmed_NA=df_confirmed[df_confirmed['Age Bracket']<1]\n",
    "df_confirmed_20=df_confirmed[df_confirmed['Age Bracket'].between(1,20)]\n",
    "df_confirmed_40=df_confirmed[df_confirmed['Age Bracket'].between(21,40)]\n",
    "df_confirmed_60=df_confirmed[df_confirmed['Age Bracket'].between(41,60)]\n",
    "df_confirmed_100=df_confirmed[df_confirmed['Age Bracket']>60]\n"
   ]
  },
  {
   "cell_type": "markdown",
   "metadata": {},
   "source": [
    "#### Age group not availabe\n"
   ]
  },
  {
   "cell_type": "code",
   "execution_count": 368,
   "metadata": {},
   "outputs": [
    {
     "data": {
      "text/html": [
       "<div>\n",
       "<style scoped>\n",
       "    .dataframe tbody tr th:only-of-type {\n",
       "        vertical-align: middle;\n",
       "    }\n",
       "\n",
       "    .dataframe tbody tr th {\n",
       "        vertical-align: top;\n",
       "    }\n",
       "\n",
       "    .dataframe thead th {\n",
       "        text-align: right;\n",
       "    }\n",
       "</style>\n",
       "<table border=\"1\" class=\"dataframe\">\n",
       "  <thead>\n",
       "    <tr style=\"text-align: right;\">\n",
       "      <th></th>\n",
       "      <th>Num Cases</th>\n",
       "    </tr>\n",
       "    <tr>\n",
       "      <th>State code</th>\n",
       "      <th></th>\n",
       "    </tr>\n",
       "  </thead>\n",
       "  <tbody>\n",
       "    <tr>\n",
       "      <th>MH</th>\n",
       "      <td>246538</td>\n",
       "    </tr>\n",
       "    <tr>\n",
       "      <th>TN</th>\n",
       "      <td>113962</td>\n",
       "    </tr>\n",
       "    <tr>\n",
       "      <th>DL</th>\n",
       "      <td>110906</td>\n",
       "    </tr>\n",
       "    <tr>\n",
       "      <th>GJ</th>\n",
       "      <td>40880</td>\n",
       "    </tr>\n",
       "    <tr>\n",
       "      <th>UP</th>\n",
       "      <td>35044</td>\n",
       "    </tr>\n",
       "  </tbody>\n",
       "</table>\n",
       "</div>"
      ],
      "text/plain": [
       "            Num Cases\n",
       "State code           \n",
       "MH             246538\n",
       "TN             113962\n",
       "DL             110906\n",
       "GJ              40880\n",
       "UP              35044"
      ]
     },
     "execution_count": 368,
     "metadata": {},
     "output_type": "execute_result"
    }
   ],
   "source": [
    "NA=df_confirmed_NA.groupby(\"State code\")[[\"Num Cases\"]].sum().sort_values(by='Num Cases', ascending=False)\n",
    "NA.head(5)"
   ]
  },
  {
   "cell_type": "markdown",
   "metadata": {},
   "source": [
    "#### Age group between 1 to 20"
   ]
  },
  {
   "cell_type": "code",
   "execution_count": 369,
   "metadata": {},
   "outputs": [
    {
     "data": {
      "text/html": [
       "<div>\n",
       "<style scoped>\n",
       "    .dataframe tbody tr th:only-of-type {\n",
       "        vertical-align: middle;\n",
       "    }\n",
       "\n",
       "    .dataframe tbody tr th {\n",
       "        vertical-align: top;\n",
       "    }\n",
       "\n",
       "    .dataframe thead th {\n",
       "        text-align: right;\n",
       "    }\n",
       "</style>\n",
       "<table border=\"1\" class=\"dataframe\">\n",
       "  <thead>\n",
       "    <tr style=\"text-align: right;\">\n",
       "      <th></th>\n",
       "      <th>Num Cases</th>\n",
       "    </tr>\n",
       "    <tr>\n",
       "      <th>State code</th>\n",
       "      <th></th>\n",
       "    </tr>\n",
       "  </thead>\n",
       "  <tbody>\n",
       "    <tr>\n",
       "      <th>KA</th>\n",
       "      <td>4954</td>\n",
       "    </tr>\n",
       "    <tr>\n",
       "      <th>TN</th>\n",
       "      <td>2670</td>\n",
       "    </tr>\n",
       "    <tr>\n",
       "      <th>BR</th>\n",
       "      <td>2077</td>\n",
       "    </tr>\n",
       "    <tr>\n",
       "      <th>CH</th>\n",
       "      <td>120</td>\n",
       "    </tr>\n",
       "    <tr>\n",
       "      <th>AP</th>\n",
       "      <td>50</td>\n",
       "    </tr>\n",
       "  </tbody>\n",
       "</table>\n",
       "</div>"
      ],
      "text/plain": [
       "            Num Cases\n",
       "State code           \n",
       "KA               4954\n",
       "TN               2670\n",
       "BR               2077\n",
       "CH                120\n",
       "AP                 50"
      ]
     },
     "execution_count": 369,
     "metadata": {},
     "output_type": "execute_result"
    }
   ],
   "source": [
    "B=df_confirmed_20.groupby(\"State code\")[[\"Num Cases\"]].sum().sort_values(by='Num Cases', ascending=False)\n",
    "B.head(5)"
   ]
  },
  {
   "cell_type": "markdown",
   "metadata": {},
   "source": [
    "#### Age group between 21 to 40"
   ]
  },
  {
   "cell_type": "code",
   "execution_count": 370,
   "metadata": {},
   "outputs": [
    {
     "data": {
      "text/html": [
       "<div>\n",
       "<style scoped>\n",
       "    .dataframe tbody tr th:only-of-type {\n",
       "        vertical-align: middle;\n",
       "    }\n",
       "\n",
       "    .dataframe tbody tr th {\n",
       "        vertical-align: top;\n",
       "    }\n",
       "\n",
       "    .dataframe thead th {\n",
       "        text-align: right;\n",
       "    }\n",
       "</style>\n",
       "<table border=\"1\" class=\"dataframe\">\n",
       "  <thead>\n",
       "    <tr style=\"text-align: right;\">\n",
       "      <th></th>\n",
       "      <th>Num Cases</th>\n",
       "    </tr>\n",
       "    <tr>\n",
       "      <th>State code</th>\n",
       "      <th></th>\n",
       "    </tr>\n",
       "  </thead>\n",
       "  <tbody>\n",
       "    <tr>\n",
       "      <th>KA</th>\n",
       "      <td>16611</td>\n",
       "    </tr>\n",
       "    <tr>\n",
       "      <th>TN</th>\n",
       "      <td>9364</td>\n",
       "    </tr>\n",
       "    <tr>\n",
       "      <th>BR</th>\n",
       "      <td>5730</td>\n",
       "    </tr>\n",
       "    <tr>\n",
       "      <th>AP</th>\n",
       "      <td>188</td>\n",
       "    </tr>\n",
       "    <tr>\n",
       "      <th>CH</th>\n",
       "      <td>176</td>\n",
       "    </tr>\n",
       "  </tbody>\n",
       "</table>\n",
       "</div>"
      ],
      "text/plain": [
       "            Num Cases\n",
       "State code           \n",
       "KA              16611\n",
       "TN               9364\n",
       "BR               5730\n",
       "AP                188\n",
       "CH                176"
      ]
     },
     "execution_count": 370,
     "metadata": {},
     "output_type": "execute_result"
    }
   ],
   "source": [
    "C=df_confirmed_40.groupby(\"State code\")[[\"Num Cases\"]].sum().sort_values(by='Num Cases', ascending=False)\n",
    "C.head(5)"
   ]
  },
  {
   "cell_type": "markdown",
   "metadata": {},
   "source": [
    "#### Age group between 41 to 60"
   ]
  },
  {
   "cell_type": "code",
   "execution_count": 371,
   "metadata": {},
   "outputs": [
    {
     "data": {
      "text/html": [
       "<div>\n",
       "<style scoped>\n",
       "    .dataframe tbody tr th:only-of-type {\n",
       "        vertical-align: middle;\n",
       "    }\n",
       "\n",
       "    .dataframe tbody tr th {\n",
       "        vertical-align: top;\n",
       "    }\n",
       "\n",
       "    .dataframe thead th {\n",
       "        text-align: right;\n",
       "    }\n",
       "</style>\n",
       "<table border=\"1\" class=\"dataframe\">\n",
       "  <thead>\n",
       "    <tr style=\"text-align: right;\">\n",
       "      <th></th>\n",
       "      <th>Num Cases</th>\n",
       "    </tr>\n",
       "    <tr>\n",
       "      <th>State code</th>\n",
       "      <th></th>\n",
       "    </tr>\n",
       "  </thead>\n",
       "  <tbody>\n",
       "    <tr>\n",
       "      <th>KA</th>\n",
       "      <td>10893</td>\n",
       "    </tr>\n",
       "    <tr>\n",
       "      <th>TN</th>\n",
       "      <td>6377</td>\n",
       "    </tr>\n",
       "    <tr>\n",
       "      <th>BR</th>\n",
       "      <td>1949</td>\n",
       "    </tr>\n",
       "    <tr>\n",
       "      <th>AP</th>\n",
       "      <td>137</td>\n",
       "    </tr>\n",
       "    <tr>\n",
       "      <th>CH</th>\n",
       "      <td>89</td>\n",
       "    </tr>\n",
       "  </tbody>\n",
       "</table>\n",
       "</div>"
      ],
      "text/plain": [
       "            Num Cases\n",
       "State code           \n",
       "KA              10893\n",
       "TN               6377\n",
       "BR               1949\n",
       "AP                137\n",
       "CH                 89"
      ]
     },
     "execution_count": 371,
     "metadata": {},
     "output_type": "execute_result"
    }
   ],
   "source": [
    "D=df_confirmed_60.groupby(\"State code\")[[\"Num Cases\"]].sum().sort_values(by='Num Cases', ascending=False)\n",
    "D.head()"
   ]
  },
  {
   "cell_type": "markdown",
   "metadata": {},
   "source": [
    "#### Age group between 61 and above"
   ]
  },
  {
   "cell_type": "code",
   "execution_count": 372,
   "metadata": {},
   "outputs": [
    {
     "data": {
      "text/html": [
       "<div>\n",
       "<style scoped>\n",
       "    .dataframe tbody tr th:only-of-type {\n",
       "        vertical-align: middle;\n",
       "    }\n",
       "\n",
       "    .dataframe tbody tr th {\n",
       "        vertical-align: top;\n",
       "    }\n",
       "\n",
       "    .dataframe thead th {\n",
       "        text-align: right;\n",
       "    }\n",
       "</style>\n",
       "<table border=\"1\" class=\"dataframe\">\n",
       "  <thead>\n",
       "    <tr style=\"text-align: right;\">\n",
       "      <th></th>\n",
       "      <th>Num Cases</th>\n",
       "    </tr>\n",
       "    <tr>\n",
       "      <th>State code</th>\n",
       "      <th></th>\n",
       "    </tr>\n",
       "  </thead>\n",
       "  <tbody>\n",
       "    <tr>\n",
       "      <th>KA</th>\n",
       "      <td>3588</td>\n",
       "    </tr>\n",
       "    <tr>\n",
       "      <th>TN</th>\n",
       "      <td>1846</td>\n",
       "    </tr>\n",
       "    <tr>\n",
       "      <th>BR</th>\n",
       "      <td>274</td>\n",
       "    </tr>\n",
       "    <tr>\n",
       "      <th>AP</th>\n",
       "      <td>37</td>\n",
       "    </tr>\n",
       "    <tr>\n",
       "      <th>CH</th>\n",
       "      <td>30</td>\n",
       "    </tr>\n",
       "  </tbody>\n",
       "</table>\n",
       "</div>"
      ],
      "text/plain": [
       "            Num Cases\n",
       "State code           \n",
       "KA               3588\n",
       "TN               1846\n",
       "BR                274\n",
       "AP                 37\n",
       "CH                 30"
      ]
     },
     "execution_count": 372,
     "metadata": {},
     "output_type": "execute_result"
    }
   ],
   "source": [
    "E=df_confirmed_100.groupby(\"State code\")[[\"Num Cases\"]].sum().sort_values(by='Num Cases', ascending=False)\n",
    "E.head()"
   ]
  },
  {
   "cell_type": "markdown",
   "metadata": {},
   "source": [
    "#### Gender Counts"
   ]
  },
  {
   "cell_type": "code",
   "execution_count": 373,
   "metadata": {},
   "outputs": [
    {
     "data": {
      "text/html": [
       "<div>\n",
       "<style scoped>\n",
       "    .dataframe tbody tr th:only-of-type {\n",
       "        vertical-align: middle;\n",
       "    }\n",
       "\n",
       "    .dataframe tbody tr th {\n",
       "        vertical-align: top;\n",
       "    }\n",
       "\n",
       "    .dataframe thead th {\n",
       "        text-align: right;\n",
       "    }\n",
       "</style>\n",
       "<table border=\"1\" class=\"dataframe\">\n",
       "  <thead>\n",
       "    <tr style=\"text-align: right;\">\n",
       "      <th></th>\n",
       "      <th>Num Cases</th>\n",
       "    </tr>\n",
       "    <tr>\n",
       "      <th>Gender</th>\n",
       "      <th></th>\n",
       "    </tr>\n",
       "  </thead>\n",
       "  <tbody>\n",
       "    <tr>\n",
       "      <th>F</th>\n",
       "      <td>23824</td>\n",
       "    </tr>\n",
       "    <tr>\n",
       "      <th>M</th>\n",
       "      <td>47294</td>\n",
       "    </tr>\n",
       "    <tr>\n",
       "      <th>NA</th>\n",
       "      <td>783134</td>\n",
       "    </tr>\n",
       "  </tbody>\n",
       "</table>\n",
       "</div>"
      ],
      "text/plain": [
       "        Num Cases\n",
       "Gender           \n",
       "F           23824\n",
       "M           47294\n",
       "NA         783134"
      ]
     },
     "execution_count": 373,
     "metadata": {},
     "output_type": "execute_result"
    }
   ],
   "source": [
    "df_confirmed_m_f = df_confirmed.groupby('Gender')[['Num Cases']].sum()\n",
    "df_confirmed_m_f"
   ]
  },
  {
   "cell_type": "markdown",
   "metadata": {},
   "source": [
    "#### Datewise Counts"
   ]
  },
  {
   "cell_type": "code",
   "execution_count": 374,
   "metadata": {},
   "outputs": [
    {
     "data": {
      "text/html": [
       "<div>\n",
       "<style scoped>\n",
       "    .dataframe tbody tr th:only-of-type {\n",
       "        vertical-align: middle;\n",
       "    }\n",
       "\n",
       "    .dataframe tbody tr th {\n",
       "        vertical-align: top;\n",
       "    }\n",
       "\n",
       "    .dataframe thead th {\n",
       "        text-align: right;\n",
       "    }\n",
       "</style>\n",
       "<table border=\"1\" class=\"dataframe\">\n",
       "  <thead>\n",
       "    <tr style=\"text-align: right;\">\n",
       "      <th></th>\n",
       "      <th>Date Announced</th>\n",
       "      <th>Age Bracket</th>\n",
       "      <th>Gender</th>\n",
       "      <th>Detected City</th>\n",
       "      <th>Detected District</th>\n",
       "      <th>Detected State</th>\n",
       "      <th>State code</th>\n",
       "      <th>Current Status</th>\n",
       "      <th>Nationality</th>\n",
       "      <th>Num Cases</th>\n",
       "    </tr>\n",
       "  </thead>\n",
       "  <tbody>\n",
       "    <tr>\n",
       "      <th>163595</th>\n",
       "      <td>2020-07-12</td>\n",
       "      <td>0</td>\n",
       "      <td>NA</td>\n",
       "      <td>NaN</td>\n",
       "      <td>Sitamarhi</td>\n",
       "      <td>Bihar</td>\n",
       "      <td>BR</td>\n",
       "      <td>Hospitalized</td>\n",
       "      <td>NaN</td>\n",
       "      <td>13</td>\n",
       "    </tr>\n",
       "    <tr>\n",
       "      <th>163596</th>\n",
       "      <td>2020-07-12</td>\n",
       "      <td>0</td>\n",
       "      <td>NA</td>\n",
       "      <td>NaN</td>\n",
       "      <td>Siwan</td>\n",
       "      <td>Bihar</td>\n",
       "      <td>BR</td>\n",
       "      <td>Hospitalized</td>\n",
       "      <td>NaN</td>\n",
       "      <td>98</td>\n",
       "    </tr>\n",
       "    <tr>\n",
       "      <th>163597</th>\n",
       "      <td>2020-07-12</td>\n",
       "      <td>0</td>\n",
       "      <td>NA</td>\n",
       "      <td>NaN</td>\n",
       "      <td>Supaul</td>\n",
       "      <td>Bihar</td>\n",
       "      <td>BR</td>\n",
       "      <td>Hospitalized</td>\n",
       "      <td>NaN</td>\n",
       "      <td>10</td>\n",
       "    </tr>\n",
       "    <tr>\n",
       "      <th>163598</th>\n",
       "      <td>2020-07-12</td>\n",
       "      <td>0</td>\n",
       "      <td>NA</td>\n",
       "      <td>NaN</td>\n",
       "      <td>Vaishali</td>\n",
       "      <td>Bihar</td>\n",
       "      <td>BR</td>\n",
       "      <td>Hospitalized</td>\n",
       "      <td>NaN</td>\n",
       "      <td>36</td>\n",
       "    </tr>\n",
       "    <tr>\n",
       "      <th>163599</th>\n",
       "      <td>2020-07-12</td>\n",
       "      <td>0</td>\n",
       "      <td>NA</td>\n",
       "      <td>NaN</td>\n",
       "      <td>West Champaran</td>\n",
       "      <td>Bihar</td>\n",
       "      <td>BR</td>\n",
       "      <td>Hospitalized</td>\n",
       "      <td>NaN</td>\n",
       "      <td>54</td>\n",
       "    </tr>\n",
       "  </tbody>\n",
       "</table>\n",
       "</div>"
      ],
      "text/plain": [
       "       Date Announced  Age Bracket Gender Detected City Detected District  \\\n",
       "163595     2020-07-12            0     NA           NaN         Sitamarhi   \n",
       "163596     2020-07-12            0     NA           NaN             Siwan   \n",
       "163597     2020-07-12            0     NA           NaN            Supaul   \n",
       "163598     2020-07-12            0     NA           NaN          Vaishali   \n",
       "163599     2020-07-12            0     NA           NaN    West Champaran   \n",
       "\n",
       "       Detected State State code Current Status Nationality  Num Cases  \n",
       "163595          Bihar         BR   Hospitalized         NaN         13  \n",
       "163596          Bihar         BR   Hospitalized         NaN         98  \n",
       "163597          Bihar         BR   Hospitalized         NaN         10  \n",
       "163598          Bihar         BR   Hospitalized         NaN         36  \n",
       "163599          Bihar         BR   Hospitalized         NaN         54  "
      ]
     },
     "execution_count": 374,
     "metadata": {},
     "output_type": "execute_result"
    }
   ],
   "source": [
    "df_confirmed.tail()"
   ]
  },
  {
   "cell_type": "code",
   "execution_count": 375,
   "metadata": {},
   "outputs": [
    {
     "data": {
      "text/html": [
       "<div>\n",
       "<style scoped>\n",
       "    .dataframe tbody tr th:only-of-type {\n",
       "        vertical-align: middle;\n",
       "    }\n",
       "\n",
       "    .dataframe tbody tr th {\n",
       "        vertical-align: top;\n",
       "    }\n",
       "\n",
       "    .dataframe thead th {\n",
       "        text-align: right;\n",
       "    }\n",
       "</style>\n",
       "<table border=\"1\" class=\"dataframe\">\n",
       "  <thead>\n",
       "    <tr style=\"text-align: right;\">\n",
       "      <th></th>\n",
       "      <th>Num Cases</th>\n",
       "    </tr>\n",
       "    <tr>\n",
       "      <th>Date Announced</th>\n",
       "      <th></th>\n",
       "    </tr>\n",
       "  </thead>\n",
       "  <tbody>\n",
       "    <tr>\n",
       "      <th>2020-07-03</th>\n",
       "      <td>22718</td>\n",
       "    </tr>\n",
       "    <tr>\n",
       "      <th>2020-07-04</th>\n",
       "      <td>24018</td>\n",
       "    </tr>\n",
       "    <tr>\n",
       "      <th>2020-07-05</th>\n",
       "      <td>23942</td>\n",
       "    </tr>\n",
       "    <tr>\n",
       "      <th>2020-07-06</th>\n",
       "      <td>22500</td>\n",
       "    </tr>\n",
       "    <tr>\n",
       "      <th>2020-07-07</th>\n",
       "      <td>23145</td>\n",
       "    </tr>\n",
       "    <tr>\n",
       "      <th>2020-07-08</th>\n",
       "      <td>25561</td>\n",
       "    </tr>\n",
       "    <tr>\n",
       "      <th>2020-07-09</th>\n",
       "      <td>25790</td>\n",
       "    </tr>\n",
       "    <tr>\n",
       "      <th>2020-07-10</th>\n",
       "      <td>27762</td>\n",
       "    </tr>\n",
       "    <tr>\n",
       "      <th>2020-07-11</th>\n",
       "      <td>27755</td>\n",
       "    </tr>\n",
       "    <tr>\n",
       "      <th>2020-07-12</th>\n",
       "      <td>4121</td>\n",
       "    </tr>\n",
       "  </tbody>\n",
       "</table>\n",
       "</div>"
      ],
      "text/plain": [
       "                Num Cases\n",
       "Date Announced           \n",
       "2020-07-03          22718\n",
       "2020-07-04          24018\n",
       "2020-07-05          23942\n",
       "2020-07-06          22500\n",
       "2020-07-07          23145\n",
       "2020-07-08          25561\n",
       "2020-07-09          25790\n",
       "2020-07-10          27762\n",
       "2020-07-11          27755\n",
       "2020-07-12           4121"
      ]
     },
     "execution_count": 375,
     "metadata": {},
     "output_type": "execute_result"
    }
   ],
   "source": [
    "df_confirmed_date_count=df_confirmed.groupby('Date Announced')[['Num Cases']].sum().sort_values(by='Date Announced', ascending=True)\n",
    "df_confirmed_date_count.tail(10)"
   ]
  },
  {
   "cell_type": "code",
   "execution_count": 376,
   "metadata": {},
   "outputs": [],
   "source": [
    "df_confirmed_date_count.to_csv(\"D.csv\", encoding = \"utf-8\")"
   ]
  },
  {
   "cell_type": "code",
   "execution_count": 377,
   "metadata": {},
   "outputs": [
    {
     "data": {
      "text/html": [
       "<div>\n",
       "<style scoped>\n",
       "    .dataframe tbody tr th:only-of-type {\n",
       "        vertical-align: middle;\n",
       "    }\n",
       "\n",
       "    .dataframe tbody tr th {\n",
       "        vertical-align: top;\n",
       "    }\n",
       "\n",
       "    .dataframe thead th {\n",
       "        text-align: right;\n",
       "    }\n",
       "</style>\n",
       "<table border=\"1\" class=\"dataframe\">\n",
       "  <thead>\n",
       "    <tr style=\"text-align: right;\">\n",
       "      <th></th>\n",
       "      <th>State Patient Number</th>\n",
       "      <th>Date Announced</th>\n",
       "      <th>Age Bracket</th>\n",
       "      <th>Gender</th>\n",
       "      <th>Detected City</th>\n",
       "      <th>Detected District</th>\n",
       "      <th>Detected State</th>\n",
       "      <th>State code</th>\n",
       "      <th>Current Status</th>\n",
       "      <th>Notes</th>\n",
       "      <th>Contracted from which Patient (Suspected)</th>\n",
       "      <th>Nationality</th>\n",
       "      <th>Type of transmission</th>\n",
       "      <th>Status Change Date</th>\n",
       "      <th>Num Cases</th>\n",
       "      <th>Entry_ID</th>\n",
       "    </tr>\n",
       "  </thead>\n",
       "  <tbody>\n",
       "    <tr>\n",
       "      <th>0</th>\n",
       "      <td>KL-TS-P1</td>\n",
       "      <td>2020-01-30</td>\n",
       "      <td>20</td>\n",
       "      <td>F</td>\n",
       "      <td>Thrissur</td>\n",
       "      <td>Thrissur</td>\n",
       "      <td>Kerala</td>\n",
       "      <td>KL</td>\n",
       "      <td>Recovered</td>\n",
       "      <td>Travelled from Wuhan</td>\n",
       "      <td>NaN</td>\n",
       "      <td>India</td>\n",
       "      <td>Imported</td>\n",
       "      <td>14/02/2020</td>\n",
       "      <td>1</td>\n",
       "      <td>NaN</td>\n",
       "    </tr>\n",
       "  </tbody>\n",
       "</table>\n",
       "</div>"
      ],
      "text/plain": [
       "  State Patient Number Date Announced  Age Bracket Gender Detected City  \\\n",
       "0             KL-TS-P1     2020-01-30           20      F      Thrissur   \n",
       "\n",
       "  Detected District Detected State State code Current Status  \\\n",
       "0          Thrissur         Kerala         KL      Recovered   \n",
       "\n",
       "                  Notes Contracted from which Patient (Suspected) Nationality  \\\n",
       "0  Travelled from Wuhan                                       NaN       India   \n",
       "\n",
       "  Type of transmission Status Change Date  Num Cases  Entry_ID  \n",
       "0             Imported         14/02/2020          1       NaN  "
      ]
     },
     "execution_count": 377,
     "metadata": {},
     "output_type": "execute_result"
    }
   ],
   "source": [
    "df[df['Date Announced']<pd.Timestamp(\"2020-01-31\")]"
   ]
  },
  {
   "cell_type": "code",
   "execution_count": null,
   "metadata": {},
   "outputs": [],
   "source": []
  },
  {
   "cell_type": "code",
   "execution_count": 378,
   "metadata": {},
   "outputs": [],
   "source": [
    "xyz=df_confirmed['Num Cases'].reset_index()\n"
   ]
  },
  {
   "cell_type": "code",
   "execution_count": 379,
   "metadata": {},
   "outputs": [],
   "source": [
    "xyz.drop(['index'], axis=1,inplace=True)"
   ]
  },
  {
   "cell_type": "code",
   "execution_count": 380,
   "metadata": {},
   "outputs": [
    {
     "data": {
      "text/html": [
       "<div>\n",
       "<style scoped>\n",
       "    .dataframe tbody tr th:only-of-type {\n",
       "        vertical-align: middle;\n",
       "    }\n",
       "\n",
       "    .dataframe tbody tr th {\n",
       "        vertical-align: top;\n",
       "    }\n",
       "\n",
       "    .dataframe thead th {\n",
       "        text-align: right;\n",
       "    }\n",
       "</style>\n",
       "<table border=\"1\" class=\"dataframe\">\n",
       "  <thead>\n",
       "    <tr style=\"text-align: right;\">\n",
       "      <th></th>\n",
       "      <th>Num Cases</th>\n",
       "    </tr>\n",
       "  </thead>\n",
       "  <tbody>\n",
       "    <tr>\n",
       "      <th>0</th>\n",
       "      <td>1</td>\n",
       "    </tr>\n",
       "    <tr>\n",
       "      <th>1</th>\n",
       "      <td>1</td>\n",
       "    </tr>\n",
       "    <tr>\n",
       "      <th>2</th>\n",
       "      <td>1</td>\n",
       "    </tr>\n",
       "    <tr>\n",
       "      <th>3</th>\n",
       "      <td>1</td>\n",
       "    </tr>\n",
       "    <tr>\n",
       "      <th>4</th>\n",
       "      <td>1</td>\n",
       "    </tr>\n",
       "    <tr>\n",
       "      <th>...</th>\n",
       "      <td>...</td>\n",
       "    </tr>\n",
       "    <tr>\n",
       "      <th>123691</th>\n",
       "      <td>13</td>\n",
       "    </tr>\n",
       "    <tr>\n",
       "      <th>123692</th>\n",
       "      <td>98</td>\n",
       "    </tr>\n",
       "    <tr>\n",
       "      <th>123693</th>\n",
       "      <td>10</td>\n",
       "    </tr>\n",
       "    <tr>\n",
       "      <th>123694</th>\n",
       "      <td>36</td>\n",
       "    </tr>\n",
       "    <tr>\n",
       "      <th>123695</th>\n",
       "      <td>54</td>\n",
       "    </tr>\n",
       "  </tbody>\n",
       "</table>\n",
       "<p>123696 rows × 1 columns</p>\n",
       "</div>"
      ],
      "text/plain": [
       "        Num Cases\n",
       "0               1\n",
       "1               1\n",
       "2               1\n",
       "3               1\n",
       "4               1\n",
       "...           ...\n",
       "123691         13\n",
       "123692         98\n",
       "123693         10\n",
       "123694         36\n",
       "123695         54\n",
       "\n",
       "[123696 rows x 1 columns]"
      ]
     },
     "execution_count": 380,
     "metadata": {},
     "output_type": "execute_result"
    }
   ],
   "source": [
    "xyz"
   ]
  },
  {
   "cell_type": "code",
   "execution_count": 381,
   "metadata": {},
   "outputs": [],
   "source": [
    "xyz = xyz.rename_axis('index1').reset_index()"
   ]
  },
  {
   "cell_type": "code",
   "execution_count": 382,
   "metadata": {},
   "outputs": [
    {
     "data": {
      "text/html": [
       "<div>\n",
       "<style scoped>\n",
       "    .dataframe tbody tr th:only-of-type {\n",
       "        vertical-align: middle;\n",
       "    }\n",
       "\n",
       "    .dataframe tbody tr th {\n",
       "        vertical-align: top;\n",
       "    }\n",
       "\n",
       "    .dataframe thead th {\n",
       "        text-align: right;\n",
       "    }\n",
       "</style>\n",
       "<table border=\"1\" class=\"dataframe\">\n",
       "  <thead>\n",
       "    <tr style=\"text-align: right;\">\n",
       "      <th></th>\n",
       "      <th>index1</th>\n",
       "      <th>Num Cases</th>\n",
       "    </tr>\n",
       "  </thead>\n",
       "  <tbody>\n",
       "    <tr>\n",
       "      <th>0</th>\n",
       "      <td>0</td>\n",
       "      <td>1</td>\n",
       "    </tr>\n",
       "    <tr>\n",
       "      <th>1</th>\n",
       "      <td>1</td>\n",
       "      <td>1</td>\n",
       "    </tr>\n",
       "    <tr>\n",
       "      <th>2</th>\n",
       "      <td>2</td>\n",
       "      <td>1</td>\n",
       "    </tr>\n",
       "    <tr>\n",
       "      <th>3</th>\n",
       "      <td>3</td>\n",
       "      <td>1</td>\n",
       "    </tr>\n",
       "    <tr>\n",
       "      <th>4</th>\n",
       "      <td>4</td>\n",
       "      <td>1</td>\n",
       "    </tr>\n",
       "    <tr>\n",
       "      <th>...</th>\n",
       "      <td>...</td>\n",
       "      <td>...</td>\n",
       "    </tr>\n",
       "    <tr>\n",
       "      <th>123691</th>\n",
       "      <td>123691</td>\n",
       "      <td>13</td>\n",
       "    </tr>\n",
       "    <tr>\n",
       "      <th>123692</th>\n",
       "      <td>123692</td>\n",
       "      <td>98</td>\n",
       "    </tr>\n",
       "    <tr>\n",
       "      <th>123693</th>\n",
       "      <td>123693</td>\n",
       "      <td>10</td>\n",
       "    </tr>\n",
       "    <tr>\n",
       "      <th>123694</th>\n",
       "      <td>123694</td>\n",
       "      <td>36</td>\n",
       "    </tr>\n",
       "    <tr>\n",
       "      <th>123695</th>\n",
       "      <td>123695</td>\n",
       "      <td>54</td>\n",
       "    </tr>\n",
       "  </tbody>\n",
       "</table>\n",
       "<p>123696 rows × 2 columns</p>\n",
       "</div>"
      ],
      "text/plain": [
       "        index1  Num Cases\n",
       "0            0          1\n",
       "1            1          1\n",
       "2            2          1\n",
       "3            3          1\n",
       "4            4          1\n",
       "...        ...        ...\n",
       "123691  123691         13\n",
       "123692  123692         98\n",
       "123693  123693         10\n",
       "123694  123694         36\n",
       "123695  123695         54\n",
       "\n",
       "[123696 rows x 2 columns]"
      ]
     },
     "execution_count": 382,
     "metadata": {},
     "output_type": "execute_result"
    }
   ],
   "source": [
    "xyz"
   ]
  },
  {
   "cell_type": "code",
   "execution_count": null,
   "metadata": {},
   "outputs": [],
   "source": []
  },
  {
   "cell_type": "code",
   "execution_count": 383,
   "metadata": {},
   "outputs": [
    {
     "data": {
      "text/plain": [
       "<seaborn.axisgrid.PairGrid at 0x25d94863988>"
      ]
     },
     "execution_count": 383,
     "metadata": {},
     "output_type": "execute_result"
    },
    {
     "data": {
      "image/png": "[encoded data removed]",
      "text/plain": [
       "<Figure size 360x360 with 6 Axes>"
      ]
     },
     "metadata": {
      "needs_background": "light"
     },
     "output_type": "display_data"
    }
   ],
   "source": [
    "sns.pairplot(xyz)"
   ]
  },
  {
   "cell_type": "code",
   "execution_count": 384,
   "metadata": {},
   "outputs": [
    {
     "data": {
      "text/html": [
       "<div>\n",
       "<style scoped>\n",
       "    .dataframe tbody tr th:only-of-type {\n",
       "        vertical-align: middle;\n",
       "    }\n",
       "\n",
       "    .dataframe tbody tr th {\n",
       "        vertical-align: top;\n",
       "    }\n",
       "\n",
       "    .dataframe thead th {\n",
       "        text-align: right;\n",
       "    }\n",
       "</style>\n",
       "<table border=\"1\" class=\"dataframe\">\n",
       "  <thead>\n",
       "    <tr style=\"text-align: right;\">\n",
       "      <th></th>\n",
       "      <th>index1</th>\n",
       "      <th>Num Cases</th>\n",
       "    </tr>\n",
       "  </thead>\n",
       "  <tbody>\n",
       "    <tr>\n",
       "      <th>count</th>\n",
       "      <td>123696.000000</td>\n",
       "      <td>123696.000000</td>\n",
       "    </tr>\n",
       "    <tr>\n",
       "      <th>mean</th>\n",
       "      <td>61847.500000</td>\n",
       "      <td>6.906060</td>\n",
       "    </tr>\n",
       "    <tr>\n",
       "      <th>std</th>\n",
       "      <td>35708.103786</td>\n",
       "      <td>115.817512</td>\n",
       "    </tr>\n",
       "    <tr>\n",
       "      <th>min</th>\n",
       "      <td>0.000000</td>\n",
       "      <td>-8139.000000</td>\n",
       "    </tr>\n",
       "    <tr>\n",
       "      <th>25%</th>\n",
       "      <td>30923.750000</td>\n",
       "      <td>1.000000</td>\n",
       "    </tr>\n",
       "    <tr>\n",
       "      <th>50%</th>\n",
       "      <td>61847.500000</td>\n",
       "      <td>1.000000</td>\n",
       "    </tr>\n",
       "    <tr>\n",
       "      <th>75%</th>\n",
       "      <td>92771.250000</td>\n",
       "      <td>1.000000</td>\n",
       "    </tr>\n",
       "    <tr>\n",
       "      <th>max</th>\n",
       "      <td>123695.000000</td>\n",
       "      <td>8139.000000</td>\n",
       "    </tr>\n",
       "  </tbody>\n",
       "</table>\n",
       "</div>"
      ],
      "text/plain": [
       "              index1      Num Cases\n",
       "count  123696.000000  123696.000000\n",
       "mean    61847.500000       6.906060\n",
       "std     35708.103786     115.817512\n",
       "min         0.000000   -8139.000000\n",
       "25%     30923.750000       1.000000\n",
       "50%     61847.500000       1.000000\n",
       "75%     92771.250000       1.000000\n",
       "max    123695.000000    8139.000000"
      ]
     },
     "execution_count": 384,
     "metadata": {},
     "output_type": "execute_result"
    }
   ],
   "source": [
    "xyz.describe()"
   ]
  },
  {
   "cell_type": "code",
   "execution_count": 385,
   "metadata": {},
   "outputs": [
    {
     "data": {
      "text/plain": [
       "<matplotlib.axes._subplots.AxesSubplot at 0x25d8fccf4c8>"
      ]
     },
     "execution_count": 385,
     "metadata": {},
     "output_type": "execute_result"
    },
    {
     "data": {
      "image/png": "[encoded data removed]",
      "text/plain": [
       "<Figure size 432x288 with 1 Axes>"
      ]
     },
     "metadata": {
      "needs_background": "light"
     },
     "output_type": "display_data"
    }
   ],
   "source": [
    "sns.distplot(xyz['index1'])"
   ]
  },
  {
   "cell_type": "code",
   "execution_count": 386,
   "metadata": {},
   "outputs": [],
   "source": [
    "xyx_new=xyz[xyz['Num Cases']>0]"
   ]
  },
  {
   "cell_type": "code",
   "execution_count": 387,
   "metadata": {},
   "outputs": [],
   "source": [
    "xyx_new.to_csv(\"MH1.csv\", index = False, encoding = \"utf-8\")"
   ]
  },
  {
   "cell_type": "code",
   "execution_count": 388,
   "metadata": {},
   "outputs": [],
   "source": [
    "#df_confirmed_date_count.to_csv(\"df_confirmed_date_count.csv\", index = False, encoding = \"utf-8\")"
   ]
  },
  {
   "cell_type": "code",
   "execution_count": null,
   "metadata": {},
   "outputs": [],
   "source": []
  },
  {
   "cell_type": "code",
   "execution_count": null,
   "metadata": {},
   "outputs": [],
   "source": []
  },
  {
   "cell_type": "code",
   "execution_count": 389,
   "metadata": {},
   "outputs": [
    {
     "data": {
      "text/plain": [
       "<matplotlib.axes._subplots.AxesSubplot at 0x25d94976048>"
      ]
     },
     "execution_count": 389,
     "metadata": {},
     "output_type": "execute_result"
    },
    {
     "data": {
      "image/png": "[encoded data removed]",
      "text/plain": [
       "<Figure size 432x288 with 1 Axes>"
      ]
     },
     "metadata": {
      "needs_background": "light"
     },
     "output_type": "display_data"
    }
   ],
   "source": [
    "sns.distplot(df_confirmed_date_count['Num Cases'])"
   ]
  },
  {
   "cell_type": "code",
   "execution_count": null,
   "metadata": {},
   "outputs": [],
   "source": []
  },
  {
   "cell_type": "code",
   "execution_count": null,
   "metadata": {},
   "outputs": [],
   "source": []
  },
  {
   "cell_type": "code",
   "execution_count": 390,
   "metadata": {},
   "outputs": [
    {
     "data": {
      "text/html": [
       "<div>\n",
       "<style scoped>\n",
       "    .dataframe tbody tr th:only-of-type {\n",
       "        vertical-align: middle;\n",
       "    }\n",
       "\n",
       "    .dataframe tbody tr th {\n",
       "        vertical-align: top;\n",
       "    }\n",
       "\n",
       "    .dataframe thead th {\n",
       "        text-align: right;\n",
       "    }\n",
       "</style>\n",
       "<table border=\"1\" class=\"dataframe\">\n",
       "  <thead>\n",
       "    <tr style=\"text-align: right;\">\n",
       "      <th></th>\n",
       "      <th>Num Cases</th>\n",
       "    </tr>\n",
       "    <tr>\n",
       "      <th>Date Announced</th>\n",
       "      <th></th>\n",
       "    </tr>\n",
       "  </thead>\n",
       "  <tbody>\n",
       "    <tr>\n",
       "      <th>2020-03-04</th>\n",
       "      <td>5</td>\n",
       "    </tr>\n",
       "    <tr>\n",
       "      <th>2020-03-05</th>\n",
       "      <td>1</td>\n",
       "    </tr>\n",
       "    <tr>\n",
       "      <th>2020-03-07</th>\n",
       "      <td>2</td>\n",
       "    </tr>\n",
       "    <tr>\n",
       "      <th>2020-03-09</th>\n",
       "      <td>4</td>\n",
       "    </tr>\n",
       "    <tr>\n",
       "      <th>2020-03-10</th>\n",
       "      <td>4</td>\n",
       "    </tr>\n",
       "    <tr>\n",
       "      <th>...</th>\n",
       "      <td>...</td>\n",
       "    </tr>\n",
       "    <tr>\n",
       "      <th>2020-07-08</th>\n",
       "      <td>25561</td>\n",
       "    </tr>\n",
       "    <tr>\n",
       "      <th>2020-07-09</th>\n",
       "      <td>25790</td>\n",
       "    </tr>\n",
       "    <tr>\n",
       "      <th>2020-07-10</th>\n",
       "      <td>27762</td>\n",
       "    </tr>\n",
       "    <tr>\n",
       "      <th>2020-07-11</th>\n",
       "      <td>27755</td>\n",
       "    </tr>\n",
       "    <tr>\n",
       "      <th>2020-07-12</th>\n",
       "      <td>4121</td>\n",
       "    </tr>\n",
       "  </tbody>\n",
       "</table>\n",
       "<p>129 rows × 1 columns</p>\n",
       "</div>"
      ],
      "text/plain": [
       "                Num Cases\n",
       "Date Announced           \n",
       "2020-03-04              5\n",
       "2020-03-05              1\n",
       "2020-03-07              2\n",
       "2020-03-09              4\n",
       "2020-03-10              4\n",
       "...                   ...\n",
       "2020-07-08          25561\n",
       "2020-07-09          25790\n",
       "2020-07-10          27762\n",
       "2020-07-11          27755\n",
       "2020-07-12           4121\n",
       "\n",
       "[129 rows x 1 columns]"
      ]
     },
     "execution_count": 390,
     "metadata": {},
     "output_type": "execute_result"
    }
   ],
   "source": [
    "df_confirmed_date_count"
   ]
  },
  {
   "cell_type": "code",
   "execution_count": 391,
   "metadata": {},
   "outputs": [
    {
     "data": {
      "image/png": "[encoded data removed]",
      "text/plain": [
       "<Figure size 432x288 with 1 Axes>"
      ]
     },
     "metadata": {
      "needs_background": "light"
     },
     "output_type": "display_data"
    }
   ],
   "source": [
    "a=range(0,30000,2500)\n",
    "df_confirmed_date_count.hist(rwidth=0.8)\n",
    "plt.xticks(a)\n",
    "plt.show()"
   ]
  },
  {
   "cell_type": "code",
   "execution_count": null,
   "metadata": {},
   "outputs": [],
   "source": []
  },
  {
   "cell_type": "code",
   "execution_count": 392,
   "metadata": {},
   "outputs": [
    {
     "data": {
      "text/html": [
       "<div>\n",
       "<style scoped>\n",
       "    .dataframe tbody tr th:only-of-type {\n",
       "        vertical-align: middle;\n",
       "    }\n",
       "\n",
       "    .dataframe tbody tr th {\n",
       "        vertical-align: top;\n",
       "    }\n",
       "\n",
       "    .dataframe thead th {\n",
       "        text-align: right;\n",
       "    }\n",
       "</style>\n",
       "<table border=\"1\" class=\"dataframe\">\n",
       "  <thead>\n",
       "    <tr style=\"text-align: right;\">\n",
       "      <th></th>\n",
       "      <th>Entry_ID</th>\n",
       "      <th>State Patient Number</th>\n",
       "      <th>Date Announced</th>\n",
       "      <th>Age Bracket</th>\n",
       "      <th>Gender</th>\n",
       "      <th>Detected City</th>\n",
       "      <th>Detected District</th>\n",
       "      <th>Detected State</th>\n",
       "      <th>State code</th>\n",
       "      <th>Num Cases</th>\n",
       "      <th>Current Status</th>\n",
       "      <th>Contracted from which Patient (Suspected)</th>\n",
       "      <th>Notes</th>\n",
       "      <th>Source_1</th>\n",
       "      <th>Source_2</th>\n",
       "      <th>Source_3</th>\n",
       "      <th>Nationality</th>\n",
       "      <th>Type of transmission</th>\n",
       "      <th>Status Change Date</th>\n",
       "      <th>Patient Number</th>\n",
       "    </tr>\n",
       "  </thead>\n",
       "  <tbody>\n",
       "    <tr>\n",
       "      <th>22790</th>\n",
       "      <td>117831</td>\n",
       "      <td>NaN</td>\n",
       "      <td>07/07/2020</td>\n",
       "      <td>NaN</td>\n",
       "      <td>NaN</td>\n",
       "      <td>NaN</td>\n",
       "      <td>Dadra and Nagar Haveli</td>\n",
       "      <td>Dadra and Nagar Haveli and Daman and Diu</td>\n",
       "      <td>DN</td>\n",
       "      <td>2</td>\n",
       "      <td>Hospitalized</td>\n",
       "      <td>NaN</td>\n",
       "      <td>NaN</td>\n",
       "      <td>https://twitter.com/DnhPublicity/status/128081...</td>\n",
       "      <td>NaN</td>\n",
       "      <td>NaN</td>\n",
       "      <td>NaN</td>\n",
       "      <td>NaN</td>\n",
       "      <td>NaN</td>\n",
       "      <td>NaN</td>\n",
       "    </tr>\n",
       "    <tr>\n",
       "      <th>22791</th>\n",
       "      <td>118420</td>\n",
       "      <td>NaN</td>\n",
       "      <td>07/07/2020</td>\n",
       "      <td>NaN</td>\n",
       "      <td>NaN</td>\n",
       "      <td>NaN</td>\n",
       "      <td>NaN</td>\n",
       "      <td>Sikkim</td>\n",
       "      <td>SK</td>\n",
       "      <td>-9</td>\n",
       "      <td>Recovered</td>\n",
       "      <td>NaN</td>\n",
       "      <td>NaN</td>\n",
       "      <td>https://twitter.com/sikkimgovt/status/12808732...</td>\n",
       "      <td>NaN</td>\n",
       "      <td>NaN</td>\n",
       "      <td>NaN</td>\n",
       "      <td>NaN</td>\n",
       "      <td>NaN</td>\n",
       "      <td>NaN</td>\n",
       "    </tr>\n",
       "    <tr>\n",
       "      <th>22792</th>\n",
       "      <td>118421</td>\n",
       "      <td>NaN</td>\n",
       "      <td>07/07/2020</td>\n",
       "      <td>NaN</td>\n",
       "      <td>NaN</td>\n",
       "      <td>NaN</td>\n",
       "      <td>NaN</td>\n",
       "      <td>Sikkim</td>\n",
       "      <td>SK</td>\n",
       "      <td>-6</td>\n",
       "      <td>Recovered</td>\n",
       "      <td>NaN</td>\n",
       "      <td>NaN</td>\n",
       "      <td>https://twitter.com/sikkimgovt/status/12808732...</td>\n",
       "      <td>NaN</td>\n",
       "      <td>NaN</td>\n",
       "      <td>NaN</td>\n",
       "      <td>NaN</td>\n",
       "      <td>NaN</td>\n",
       "      <td>NaN</td>\n",
       "    </tr>\n",
       "    <tr>\n",
       "      <th>22793</th>\n",
       "      <td>121323</td>\n",
       "      <td>NaN</td>\n",
       "      <td>07/07/2020</td>\n",
       "      <td>NaN</td>\n",
       "      <td>NaN</td>\n",
       "      <td>NaN</td>\n",
       "      <td>Kozhikode</td>\n",
       "      <td>Kerala</td>\n",
       "      <td>KL</td>\n",
       "      <td>-1</td>\n",
       "      <td>Recovered</td>\n",
       "      <td>NaN</td>\n",
       "      <td>NaN</td>\n",
       "      <td>http://dhs.kerala.gov.in/wp-content/uploads/20...</td>\n",
       "      <td>NaN</td>\n",
       "      <td>NaN</td>\n",
       "      <td>NaN</td>\n",
       "      <td>NaN</td>\n",
       "      <td>NaN</td>\n",
       "      <td>NaN</td>\n",
       "    </tr>\n",
       "    <tr>\n",
       "      <th>22794</th>\n",
       "      <td>121324</td>\n",
       "      <td>NaN</td>\n",
       "      <td>07/07/2020</td>\n",
       "      <td>NaN</td>\n",
       "      <td>NaN</td>\n",
       "      <td>NaN</td>\n",
       "      <td>Wayanad</td>\n",
       "      <td>Kerala</td>\n",
       "      <td>KL</td>\n",
       "      <td>1</td>\n",
       "      <td>Recovered</td>\n",
       "      <td>NaN</td>\n",
       "      <td>NaN</td>\n",
       "      <td>http://dhs.kerala.gov.in/wp-content/uploads/20...</td>\n",
       "      <td>NaN</td>\n",
       "      <td>NaN</td>\n",
       "      <td>NaN</td>\n",
       "      <td>NaN</td>\n",
       "      <td>NaN</td>\n",
       "      <td>NaN</td>\n",
       "    </tr>\n",
       "  </tbody>\n",
       "</table>\n",
       "</div>"
      ],
      "text/plain": [
       "       Entry_ID State Patient Number Date Announced  Age Bracket Gender  \\\n",
       "22790    117831                  NaN     07/07/2020          NaN    NaN   \n",
       "22791    118420                  NaN     07/07/2020          NaN    NaN   \n",
       "22792    118421                  NaN     07/07/2020          NaN    NaN   \n",
       "22793    121323                  NaN     07/07/2020          NaN    NaN   \n",
       "22794    121324                  NaN     07/07/2020          NaN    NaN   \n",
       "\n",
       "      Detected City       Detected District  \\\n",
       "22790           NaN  Dadra and Nagar Haveli   \n",
       "22791           NaN                     NaN   \n",
       "22792           NaN                     NaN   \n",
       "22793           NaN               Kozhikode   \n",
       "22794           NaN                 Wayanad   \n",
       "\n",
       "                                 Detected State State code  Num Cases  \\\n",
       "22790  Dadra and Nagar Haveli and Daman and Diu         DN          2   \n",
       "22791                                    Sikkim         SK         -9   \n",
       "22792                                    Sikkim         SK         -6   \n",
       "22793                                    Kerala         KL         -1   \n",
       "22794                                    Kerala         KL          1   \n",
       "\n",
       "      Current Status  Contracted from which Patient (Suspected) Notes  \\\n",
       "22790   Hospitalized                                        NaN   NaN   \n",
       "22791      Recovered                                        NaN   NaN   \n",
       "22792      Recovered                                        NaN   NaN   \n",
       "22793      Recovered                                        NaN   NaN   \n",
       "22794      Recovered                                        NaN   NaN   \n",
       "\n",
       "                                                Source_1 Source_2  Source_3  \\\n",
       "22790  https://twitter.com/DnhPublicity/status/128081...      NaN       NaN   \n",
       "22791  https://twitter.com/sikkimgovt/status/12808732...      NaN       NaN   \n",
       "22792  https://twitter.com/sikkimgovt/status/12808732...      NaN       NaN   \n",
       "22793  http://dhs.kerala.gov.in/wp-content/uploads/20...      NaN       NaN   \n",
       "22794  http://dhs.kerala.gov.in/wp-content/uploads/20...      NaN       NaN   \n",
       "\n",
       "       Nationality  Type of transmission  Status Change Date  Patient Number  \n",
       "22790          NaN                   NaN                 NaN             NaN  \n",
       "22791          NaN                   NaN                 NaN             NaN  \n",
       "22792          NaN                   NaN                 NaN             NaN  \n",
       "22793          NaN                   NaN                 NaN             NaN  \n",
       "22794          NaN                   NaN                 NaN             NaN  "
      ]
     },
     "execution_count": 392,
     "metadata": {},
     "output_type": "execute_result"
    }
   ],
   "source": [
    "df8.tail()"
   ]
  },
  {
   "cell_type": "code",
   "execution_count": null,
   "metadata": {},
   "outputs": [],
   "source": []
  },
  {
   "cell_type": "code",
   "execution_count": null,
   "metadata": {},
   "outputs": [],
   "source": []
  },
  {
   "cell_type": "code",
   "execution_count": 393,
   "metadata": {},
   "outputs": [],
   "source": [
    "x=df_confirmed[df_confirmed['State code']=='MH']"
   ]
  },
  {
   "cell_type": "code",
   "execution_count": 394,
   "metadata": {},
   "outputs": [
    {
     "data": {
      "text/plain": [
       "7862"
      ]
     },
     "execution_count": 394,
     "metadata": {},
     "output_type": "execute_result"
    }
   ],
   "source": [
    "x[x['Date Announced']=='2020-07-10']['Num Cases'].sum()"
   ]
  },
  {
   "cell_type": "code",
   "execution_count": 395,
   "metadata": {},
   "outputs": [
    {
     "data": {
      "text/plain": [
       "Date Announced            0\n",
       "Age Bracket               0\n",
       "Gender                    0\n",
       "Detected City        112979\n",
       "Detected District      7682\n",
       "Detected State            2\n",
       "State code                2\n",
       "Current Status            0\n",
       "Nationality          121185\n",
       "Num Cases                 0\n",
       "dtype: int64"
      ]
     },
     "execution_count": 395,
     "metadata": {},
     "output_type": "execute_result"
    }
   ],
   "source": [
    "df_confirmed.isnull().sum()"
   ]
  },
  {
   "cell_type": "code",
   "execution_count": 396,
   "metadata": {},
   "outputs": [
    {
     "data": {
      "text/plain": [
       "18              Italians\n",
       "19              Italians\n",
       "21                  Agra\n",
       "26                  Agra\n",
       "27                  Agra\n",
       "               ...      \n",
       "163595         Sitamarhi\n",
       "163596             Siwan\n",
       "163597            Supaul\n",
       "163598          Vaishali\n",
       "163599    West Champaran\n",
       "Name: Detected District, Length: 123696, dtype: object"
      ]
     },
     "execution_count": 396,
     "metadata": {},
     "output_type": "execute_result"
    }
   ],
   "source": [
    "df_confirmed['Detected District']"
   ]
  },
  {
   "cell_type": "code",
   "execution_count": 397,
   "metadata": {},
   "outputs": [
    {
     "data": {
      "text/html": [
       "<div>\n",
       "<style scoped>\n",
       "    .dataframe tbody tr th:only-of-type {\n",
       "        vertical-align: middle;\n",
       "    }\n",
       "\n",
       "    .dataframe tbody tr th {\n",
       "        vertical-align: top;\n",
       "    }\n",
       "\n",
       "    .dataframe thead th {\n",
       "        text-align: right;\n",
       "    }\n",
       "</style>\n",
       "<table border=\"1\" class=\"dataframe\">\n",
       "  <thead>\n",
       "    <tr style=\"text-align: right;\">\n",
       "      <th></th>\n",
       "      <th>Num Cases</th>\n",
       "    </tr>\n",
       "    <tr>\n",
       "      <th>Date Announced</th>\n",
       "      <th></th>\n",
       "    </tr>\n",
       "  </thead>\n",
       "  <tbody>\n",
       "    <tr>\n",
       "      <th>2020-03-04</th>\n",
       "      <td>5</td>\n",
       "    </tr>\n",
       "    <tr>\n",
       "      <th>2020-03-05</th>\n",
       "      <td>1</td>\n",
       "    </tr>\n",
       "    <tr>\n",
       "      <th>2020-03-07</th>\n",
       "      <td>2</td>\n",
       "    </tr>\n",
       "    <tr>\n",
       "      <th>2020-03-09</th>\n",
       "      <td>4</td>\n",
       "    </tr>\n",
       "    <tr>\n",
       "      <th>2020-03-10</th>\n",
       "      <td>4</td>\n",
       "    </tr>\n",
       "    <tr>\n",
       "      <th>...</th>\n",
       "      <td>...</td>\n",
       "    </tr>\n",
       "    <tr>\n",
       "      <th>2020-07-08</th>\n",
       "      <td>25561</td>\n",
       "    </tr>\n",
       "    <tr>\n",
       "      <th>2020-07-09</th>\n",
       "      <td>25790</td>\n",
       "    </tr>\n",
       "    <tr>\n",
       "      <th>2020-07-10</th>\n",
       "      <td>27762</td>\n",
       "    </tr>\n",
       "    <tr>\n",
       "      <th>2020-07-11</th>\n",
       "      <td>27755</td>\n",
       "    </tr>\n",
       "    <tr>\n",
       "      <th>2020-07-12</th>\n",
       "      <td>4121</td>\n",
       "    </tr>\n",
       "  </tbody>\n",
       "</table>\n",
       "<p>129 rows × 1 columns</p>\n",
       "</div>"
      ],
      "text/plain": [
       "                Num Cases\n",
       "Date Announced           \n",
       "2020-03-04              5\n",
       "2020-03-05              1\n",
       "2020-03-07              2\n",
       "2020-03-09              4\n",
       "2020-03-10              4\n",
       "...                   ...\n",
       "2020-07-08          25561\n",
       "2020-07-09          25790\n",
       "2020-07-10          27762\n",
       "2020-07-11          27755\n",
       "2020-07-12           4121\n",
       "\n",
       "[129 rows x 1 columns]"
      ]
     },
     "execution_count": 397,
     "metadata": {},
     "output_type": "execute_result"
    }
   ],
   "source": [
    "df_confirmed_date_count"
   ]
  },
  {
   "cell_type": "code",
   "execution_count": 2,
   "metadata": {},
   "outputs": [
    {
     "ename": "NameError",
     "evalue": "name 'pd' is not defined",
     "output_type": "error",
     "traceback": [
      "\u001b[1;31m---------------------------------------------------------------------------\u001b[0m",
      "\u001b[1;31mNameError\u001b[0m                                 Traceback (most recent call last)",
      "\u001b[1;32m<ipython-input-2-792001b16a9b>\u001b[0m in \u001b[0;36m<module>\u001b[1;34m\u001b[0m\n\u001b[1;32m----> 1\u001b[1;33m \u001b[0mdataset\u001b[0m\u001b[1;33m=\u001b[0m\u001b[0mpd\u001b[0m\u001b[1;33m.\u001b[0m\u001b[0mread_csv\u001b[0m\u001b[1;33m(\u001b[0m\u001b[1;34m'df_confirmed_date_count.csv'\u001b[0m\u001b[1;33m)\u001b[0m\u001b[1;33m\u001b[0m\u001b[1;33m\u001b[0m\u001b[0m\n\u001b[0m",
      "\u001b[1;31mNameError\u001b[0m: name 'pd' is not defined"
     ]
    }
   ],
   "source": [
    "\n",
    "dataset=pd.read_csv('df_confirmed_date_count.csv')"
   ]
  },
  {
   "cell_type": "code",
   "execution_count": 1,
   "metadata": {},
   "outputs": [
    {
     "ename": "NameError",
     "evalue": "name 'dataset' is not defined",
     "output_type": "error",
     "traceback": [
      "\u001b[1;31m---------------------------------------------------------------------------\u001b[0m",
      "\u001b[1;31mNameError\u001b[0m                                 Traceback (most recent call last)",
      "\u001b[1;32m<ipython-input-1-7f8d3b642e3d>\u001b[0m in \u001b[0;36m<module>\u001b[1;34m\u001b[0m\n\u001b[1;32m----> 1\u001b[1;33m \u001b[0mX\u001b[0m\u001b[1;33m=\u001b[0m\u001b[0mdataset\u001b[0m\u001b[1;33m[\u001b[0m\u001b[1;34m'Days'\u001b[0m\u001b[1;33m]\u001b[0m\u001b[1;33m\u001b[0m\u001b[1;33m\u001b[0m\u001b[0m\n\u001b[0m\u001b[0;32m      2\u001b[0m \u001b[0my\u001b[0m\u001b[1;33m=\u001b[0m\u001b[0mdataset\u001b[0m\u001b[1;33m[\u001b[0m\u001b[1;34m'Num Cases'\u001b[0m\u001b[1;33m]\u001b[0m\u001b[1;33m\u001b[0m\u001b[1;33m\u001b[0m\u001b[0m\n",
      "\u001b[1;31mNameError\u001b[0m: name 'dataset' is not defined"
     ]
    }
   ],
   "source": [
    "X=dataset['Days']\n",
    "y=dataset['Num Cases']"
   ]
  },
  {
   "cell_type": "code",
   "execution_count": 400,
   "metadata": {},
   "outputs": [],
   "source": [
    "from sklearn.model_selection import train_test_split\n",
    "X_train, X_test, y_train, y_test = train_test_split(X, y, test_size=0.90, random_state=42)\n",
    "from sklearn.linear_model import LinearRegression\n",
    "lm=LinearRegression()"
   ]
  },
  {
   "cell_type": "code",
   "execution_count": null,
   "metadata": {},
   "outputs": [],
   "source": []
  },
  {
   "cell_type": "code",
   "execution_count": 401,
   "metadata": {},
   "outputs": [
    {
     "data": {
      "text/plain": [
       "LinearRegression(copy_X=True, fit_intercept=True, n_jobs=None, normalize=False)"
      ]
     },
     "execution_count": 401,
     "metadata": {},
     "output_type": "execute_result"
    }
   ],
   "source": [
    "lm.fit(X_train,y_train)"
   ]
  },
  {
   "cell_type": "code",
   "execution_count": 402,
   "metadata": {},
   "outputs": [
    {
     "data": {
      "text/plain": [
       "array([ 4188.29810659,  1083.13659186, -3264.08952876,  -779.96031698,\n",
       "       13089.76111548,  4395.30887424,  7086.44885367, 14331.82572137,\n",
       "        9570.57806545, -1815.01415522, 12261.71804489, -1608.00338757,\n",
       "        6051.39501543, -6369.25104349, 12675.73958018, 16194.92263021,\n",
       "         255.09352126,  9363.5672978 , 18679.05184199, 10191.6103684 ,\n",
       "       -3471.10029641, -5127.1864376 , 17229.97646845, -4920.17566995,\n",
       "       14538.83648902,  2118.1904301 ,  7293.45962132,  8949.54576251,\n",
       "        2532.2119654 , -7197.29411409, -4713.1649023 ,  1497.15812716,\n",
       "       18886.06260964, -2229.03569052,  6672.42731837, 15780.90109491,\n",
       "       11226.66420664, -4092.13259936,  8742.53499486, -2643.05722582,\n",
       "        1911.17966245,  6258.40578307, 12468.72881253,  -986.97108463,\n",
       "        5637.37348013, 17851.0087714 , -5334.19720525,  -365.93878168,\n",
       "        6465.41655072, -2022.02492287, 16608.94416551, -1400.99261993,\n",
       "       12882.75034783, 11640.68574194,  3774.27657129, -6162.24027585,\n",
       "        6879.43808602,  7914.49192426,   876.12582421,  2946.2335007 ,\n",
       "          48.08275361, -3885.12183171, 18058.01953905,  -158.92801403,\n",
       "       10398.62113605, -5748.21874055,  1704.1688948 ,  8535.52422721,\n",
       "       15987.91186256, 15159.86879197, -5541.2079729 , -4506.15413466,\n",
       "       12054.70727724, -6576.26181114, -3678.11106406,   669.11505656,\n",
       "        7707.48115661, 13503.78265078, -5955.2295082 ,  9984.59960075,\n",
       "       15573.89032726, 17436.9872361 ,  3981.28733894,  3153.24426834,\n",
       "       17022.9657008 ,  2325.20119775, 18265.0303067 ,  5430.36271248,\n",
       "       18472.04107435,  9156.55653016, 13710.79341843,  1290.14735951,\n",
       "        4809.33040953, 11433.67497429,  2739.22273305, 11019.65343899,\n",
       "       15366.87955962,  4602.31964188,  8328.51345956,  -572.94954933,\n",
       "       17643.99800375,  5016.34117718,  5844.38424778, 14952.85802432,\n",
       "         462.10428891, -1193.98185228, 16401.93339786, -6990.28334644,\n",
       "        3567.26580364, -2850.06799347, -6783.27257879, -2436.04645817,\n",
       "       14124.81495372, 13296.77188313, 10812.64267134, 16815.95493316])"
      ]
     },
     "execution_count": 402,
     "metadata": {},
     "output_type": "execute_result"
    }
   ],
   "source": [
    "prediction=lm.predict(X_test)\n",
    "prediction"
   ]
  },
  {
   "cell_type": "code",
   "execution_count": 403,
   "metadata": {},
   "outputs": [
    {
     "data": {
      "text/plain": [
       "<matplotlib.collections.PathCollection at 0x25d8fc87748>"
      ]
     },
     "execution_count": 403,
     "metadata": {},
     "output_type": "execute_result"
    },
    {
     "data": {
      "image/png": "[encoded data removed]",
      "text/plain": [
       "<Figure size 432x288 with 1 Axes>"
      ]
     },
     "metadata": {
      "needs_background": "light"
     },
     "output_type": "display_data"
    }
   ],
   "source": [
    "plt.scatter(prediction,y_test)"
   ]
  },
  {
   "cell_type": "code",
   "execution_count": 404,
   "metadata": {},
   "outputs": [
    {
     "data": {
      "image/png": "[encoded data removed]",
      "text/plain": [
       "<Figure size 432x288 with 1 Axes>"
      ]
     },
     "metadata": {
      "needs_background": "light"
     },
     "output_type": "display_data"
    }
   ],
   "source": [
    "\n",
    "sns.distplot((y_test-prediction),bins=50);"
   ]
  },
  {
   "cell_type": "code",
   "execution_count": 405,
   "metadata": {},
   "outputs": [
    {
     "name": "stdout",
     "output_type": "stream",
     "text": [
      "MAE: 2760.075966470518\n",
      "MSE: 11196465.714668225\n",
      "RMSE: 3346.1120296051395\n"
     ]
    }
   ],
   "source": [
    "from sklearn import metrics\n",
    "import numpy as np\n",
    "print('MAE:', metrics.mean_absolute_error(y_test, prediction))\n",
    "print('MSE:', metrics.mean_squared_error(y_test, prediction))\n",
    "print('RMSE:', np.sqrt(metrics.mean_squared_error(y_test, prediction)))"
   ]
  },
  {
   "cell_type": "code",
   "execution_count": null,
   "metadata": {},
   "outputs": [],
   "source": []
  },
  {
   "cell_type": "code",
   "execution_count": null,
   "metadata": {},
   "outputs": [],
   "source": []
  },
  {
   "cell_type": "code",
   "execution_count": 406,
   "metadata": {},
   "outputs": [
    {
     "data": {
      "text/html": [
       "<div>\n",
       "<style scoped>\n",
       "    .dataframe tbody tr th:only-of-type {\n",
       "        vertical-align: middle;\n",
       "    }\n",
       "\n",
       "    .dataframe tbody tr th {\n",
       "        vertical-align: top;\n",
       "    }\n",
       "\n",
       "    .dataframe thead th {\n",
       "        text-align: right;\n",
       "    }\n",
       "</style>\n",
       "<table border=\"1\" class=\"dataframe\">\n",
       "  <thead>\n",
       "    <tr style=\"text-align: right;\">\n",
       "      <th></th>\n",
       "      <th>Days</th>\n",
       "      <th>XYZ</th>\n",
       "    </tr>\n",
       "  </thead>\n",
       "  <tbody>\n",
       "    <tr>\n",
       "      <th>0</th>\n",
       "      <td>301</td>\n",
       "      <td>301</td>\n",
       "    </tr>\n",
       "  </tbody>\n",
       "</table>\n",
       "</div>"
      ],
      "text/plain": [
       "   Days  XYZ\n",
       "0   301  301"
      ]
     },
     "execution_count": 406,
     "metadata": {},
     "output_type": "execute_result"
    }
   ],
   "source": [
    "list=[[301,301]]\n",
    "mytestdf=pd.DataFrame(list,columns=['Days','XYZ'])\n",
    "mytestdf"
   ]
  },
  {
   "cell_type": "code",
   "execution_count": 407,
   "metadata": {},
   "outputs": [
    {
     "data": {
      "text/plain": [
       "array([54905.93618051])"
      ]
     },
     "execution_count": 407,
     "metadata": {},
     "output_type": "execute_result"
    }
   ],
   "source": [
    "prediction=lm.predict(mytestdf)\n",
    "prediction"
   ]
  },
  {
   "cell_type": "code",
   "execution_count": 408,
   "metadata": {},
   "outputs": [],
   "source": [
    "mylist=[]\n",
    "mylist_2=[]"
   ]
  },
  {
   "cell_type": "code",
   "execution_count": 409,
   "metadata": {},
   "outputs": [],
   "source": [
    "for i in range(129,173):\n",
    "    x=[i,i]\n",
    "    mylist.append(x)"
   ]
  },
  {
   "cell_type": "code",
   "execution_count": 410,
   "metadata": {},
   "outputs": [
    {
     "data": {
      "text/plain": [
       "[[129, 129],\n",
       " [130, 130],\n",
       " [131, 131],\n",
       " [132, 132],\n",
       " [133, 133],\n",
       " [134, 134],\n",
       " [135, 135],\n",
       " [136, 136],\n",
       " [137, 137],\n",
       " [138, 138],\n",
       " [139, 139],\n",
       " [140, 140],\n",
       " [141, 141],\n",
       " [142, 142],\n",
       " [143, 143],\n",
       " [144, 144],\n",
       " [145, 145],\n",
       " [146, 146],\n",
       " [147, 147],\n",
       " [148, 148],\n",
       " [149, 149],\n",
       " [150, 150],\n",
       " [151, 151],\n",
       " [152, 152],\n",
       " [153, 153],\n",
       " [154, 154],\n",
       " [155, 155],\n",
       " [156, 156],\n",
       " [157, 157],\n",
       " [158, 158],\n",
       " [159, 159],\n",
       " [160, 160],\n",
       " [161, 161],\n",
       " [162, 162],\n",
       " [163, 163],\n",
       " [164, 164],\n",
       " [165, 165],\n",
       " [166, 166],\n",
       " [167, 167],\n",
       " [168, 168],\n",
       " [169, 169],\n",
       " [170, 170],\n",
       " [171, 171],\n",
       " [172, 172]]"
      ]
     },
     "execution_count": 410,
     "metadata": {},
     "output_type": "execute_result"
    }
   ],
   "source": [
    "mylist"
   ]
  },
  {
   "cell_type": "code",
   "execution_count": null,
   "metadata": {},
   "outputs": [],
   "source": []
  },
  {
   "cell_type": "code",
   "execution_count": 411,
   "metadata": {},
   "outputs": [
    {
     "data": {
      "text/html": [
       "<div>\n",
       "<style scoped>\n",
       "    .dataframe tbody tr th:only-of-type {\n",
       "        vertical-align: middle;\n",
       "    }\n",
       "\n",
       "    .dataframe tbody tr th {\n",
       "        vertical-align: top;\n",
       "    }\n",
       "\n",
       "    .dataframe thead th {\n",
       "        text-align: right;\n",
       "    }\n",
       "</style>\n",
       "<table border=\"1\" class=\"dataframe\">\n",
       "  <thead>\n",
       "    <tr style=\"text-align: right;\">\n",
       "      <th></th>\n",
       "      <th>Days</th>\n",
       "      <th>XYZ</th>\n",
       "    </tr>\n",
       "  </thead>\n",
       "  <tbody>\n",
       "    <tr>\n",
       "      <th>0</th>\n",
       "      <td>129</td>\n",
       "      <td>129</td>\n",
       "    </tr>\n",
       "    <tr>\n",
       "      <th>1</th>\n",
       "      <td>130</td>\n",
       "      <td>130</td>\n",
       "    </tr>\n",
       "    <tr>\n",
       "      <th>2</th>\n",
       "      <td>131</td>\n",
       "      <td>131</td>\n",
       "    </tr>\n",
       "    <tr>\n",
       "      <th>3</th>\n",
       "      <td>132</td>\n",
       "      <td>132</td>\n",
       "    </tr>\n",
       "    <tr>\n",
       "      <th>4</th>\n",
       "      <td>133</td>\n",
       "      <td>133</td>\n",
       "    </tr>\n",
       "    <tr>\n",
       "      <th>5</th>\n",
       "      <td>134</td>\n",
       "      <td>134</td>\n",
       "    </tr>\n",
       "    <tr>\n",
       "      <th>6</th>\n",
       "      <td>135</td>\n",
       "      <td>135</td>\n",
       "    </tr>\n",
       "    <tr>\n",
       "      <th>7</th>\n",
       "      <td>136</td>\n",
       "      <td>136</td>\n",
       "    </tr>\n",
       "    <tr>\n",
       "      <th>8</th>\n",
       "      <td>137</td>\n",
       "      <td>137</td>\n",
       "    </tr>\n",
       "    <tr>\n",
       "      <th>9</th>\n",
       "      <td>138</td>\n",
       "      <td>138</td>\n",
       "    </tr>\n",
       "    <tr>\n",
       "      <th>10</th>\n",
       "      <td>139</td>\n",
       "      <td>139</td>\n",
       "    </tr>\n",
       "    <tr>\n",
       "      <th>11</th>\n",
       "      <td>140</td>\n",
       "      <td>140</td>\n",
       "    </tr>\n",
       "    <tr>\n",
       "      <th>12</th>\n",
       "      <td>141</td>\n",
       "      <td>141</td>\n",
       "    </tr>\n",
       "    <tr>\n",
       "      <th>13</th>\n",
       "      <td>142</td>\n",
       "      <td>142</td>\n",
       "    </tr>\n",
       "    <tr>\n",
       "      <th>14</th>\n",
       "      <td>143</td>\n",
       "      <td>143</td>\n",
       "    </tr>\n",
       "    <tr>\n",
       "      <th>15</th>\n",
       "      <td>144</td>\n",
       "      <td>144</td>\n",
       "    </tr>\n",
       "    <tr>\n",
       "      <th>16</th>\n",
       "      <td>145</td>\n",
       "      <td>145</td>\n",
       "    </tr>\n",
       "    <tr>\n",
       "      <th>17</th>\n",
       "      <td>146</td>\n",
       "      <td>146</td>\n",
       "    </tr>\n",
       "    <tr>\n",
       "      <th>18</th>\n",
       "      <td>147</td>\n",
       "      <td>147</td>\n",
       "    </tr>\n",
       "    <tr>\n",
       "      <th>19</th>\n",
       "      <td>148</td>\n",
       "      <td>148</td>\n",
       "    </tr>\n",
       "    <tr>\n",
       "      <th>20</th>\n",
       "      <td>149</td>\n",
       "      <td>149</td>\n",
       "    </tr>\n",
       "    <tr>\n",
       "      <th>21</th>\n",
       "      <td>150</td>\n",
       "      <td>150</td>\n",
       "    </tr>\n",
       "    <tr>\n",
       "      <th>22</th>\n",
       "      <td>151</td>\n",
       "      <td>151</td>\n",
       "    </tr>\n",
       "    <tr>\n",
       "      <th>23</th>\n",
       "      <td>152</td>\n",
       "      <td>152</td>\n",
       "    </tr>\n",
       "    <tr>\n",
       "      <th>24</th>\n",
       "      <td>153</td>\n",
       "      <td>153</td>\n",
       "    </tr>\n",
       "    <tr>\n",
       "      <th>25</th>\n",
       "      <td>154</td>\n",
       "      <td>154</td>\n",
       "    </tr>\n",
       "    <tr>\n",
       "      <th>26</th>\n",
       "      <td>155</td>\n",
       "      <td>155</td>\n",
       "    </tr>\n",
       "    <tr>\n",
       "      <th>27</th>\n",
       "      <td>156</td>\n",
       "      <td>156</td>\n",
       "    </tr>\n",
       "    <tr>\n",
       "      <th>28</th>\n",
       "      <td>157</td>\n",
       "      <td>157</td>\n",
       "    </tr>\n",
       "    <tr>\n",
       "      <th>29</th>\n",
       "      <td>158</td>\n",
       "      <td>158</td>\n",
       "    </tr>\n",
       "    <tr>\n",
       "      <th>30</th>\n",
       "      <td>159</td>\n",
       "      <td>159</td>\n",
       "    </tr>\n",
       "    <tr>\n",
       "      <th>31</th>\n",
       "      <td>160</td>\n",
       "      <td>160</td>\n",
       "    </tr>\n",
       "    <tr>\n",
       "      <th>32</th>\n",
       "      <td>161</td>\n",
       "      <td>161</td>\n",
       "    </tr>\n",
       "    <tr>\n",
       "      <th>33</th>\n",
       "      <td>162</td>\n",
       "      <td>162</td>\n",
       "    </tr>\n",
       "    <tr>\n",
       "      <th>34</th>\n",
       "      <td>163</td>\n",
       "      <td>163</td>\n",
       "    </tr>\n",
       "    <tr>\n",
       "      <th>35</th>\n",
       "      <td>164</td>\n",
       "      <td>164</td>\n",
       "    </tr>\n",
       "    <tr>\n",
       "      <th>36</th>\n",
       "      <td>165</td>\n",
       "      <td>165</td>\n",
       "    </tr>\n",
       "    <tr>\n",
       "      <th>37</th>\n",
       "      <td>166</td>\n",
       "      <td>166</td>\n",
       "    </tr>\n",
       "    <tr>\n",
       "      <th>38</th>\n",
       "      <td>167</td>\n",
       "      <td>167</td>\n",
       "    </tr>\n",
       "    <tr>\n",
       "      <th>39</th>\n",
       "      <td>168</td>\n",
       "      <td>168</td>\n",
       "    </tr>\n",
       "    <tr>\n",
       "      <th>40</th>\n",
       "      <td>169</td>\n",
       "      <td>169</td>\n",
       "    </tr>\n",
       "    <tr>\n",
       "      <th>41</th>\n",
       "      <td>170</td>\n",
       "      <td>170</td>\n",
       "    </tr>\n",
       "    <tr>\n",
       "      <th>42</th>\n",
       "      <td>171</td>\n",
       "      <td>171</td>\n",
       "    </tr>\n",
       "    <tr>\n",
       "      <th>43</th>\n",
       "      <td>172</td>\n",
       "      <td>172</td>\n",
       "    </tr>\n",
       "  </tbody>\n",
       "</table>\n",
       "</div>"
      ],
      "text/plain": [
       "    Days  XYZ\n",
       "0    129  129\n",
       "1    130  130\n",
       "2    131  131\n",
       "3    132  132\n",
       "4    133  133\n",
       "5    134  134\n",
       "6    135  135\n",
       "7    136  136\n",
       "8    137  137\n",
       "9    138  138\n",
       "10   139  139\n",
       "11   140  140\n",
       "12   141  141\n",
       "13   142  142\n",
       "14   143  143\n",
       "15   144  144\n",
       "16   145  145\n",
       "17   146  146\n",
       "18   147  147\n",
       "19   148  148\n",
       "20   149  149\n",
       "21   150  150\n",
       "22   151  151\n",
       "23   152  152\n",
       "24   153  153\n",
       "25   154  154\n",
       "26   155  155\n",
       "27   156  156\n",
       "28   157  157\n",
       "29   158  158\n",
       "30   159  159\n",
       "31   160  160\n",
       "32   161  161\n",
       "33   162  162\n",
       "34   163  163\n",
       "35   164  164\n",
       "36   165  165\n",
       "37   166  166\n",
       "38   167  167\n",
       "39   168  168\n",
       "40   169  169\n",
       "41   170  170\n",
       "42   171  171\n",
       "43   172  172"
      ]
     },
     "execution_count": 411,
     "metadata": {},
     "output_type": "execute_result"
    }
   ],
   "source": [
    "mytestdf=pd.DataFrame(mylist,columns=['Days','XYZ'])\n",
    "mytestdf"
   ]
  },
  {
   "cell_type": "code",
   "execution_count": 412,
   "metadata": {},
   "outputs": [
    {
     "data": {
      "text/plain": [
       "1045035.8885729843"
      ]
     },
     "execution_count": 412,
     "metadata": {},
     "output_type": "execute_result"
    }
   ],
   "source": [
    "prediction=lm.predict(mytestdf).tolist()\n",
    "total=sum(prediction)\n",
    "total"
   ]
  },
  {
   "cell_type": "code",
   "execution_count": 417,
   "metadata": {},
   "outputs": [
    {
     "data": {
      "text/plain": [
       "[19300.08414493981,\n",
       " 19507.094912588473,\n",
       " 19714.10568023713,\n",
       " 19921.116447885794,\n",
       " 20128.127215534452,\n",
       " 20335.13798318311,\n",
       " 20542.148750831773,\n",
       " 20749.159518480432,\n",
       " 20956.170286129094,\n",
       " 21163.181053777753,\n",
       " 21370.19182142641,\n",
       " 21577.202589075074,\n",
       " 21784.213356723732,\n",
       " 21991.224124372395,\n",
       " 22198.234892021053,\n",
       " 22405.245659669712,\n",
       " 22612.256427318374,\n",
       " 22819.267194967033,\n",
       " 23026.277962615695,\n",
       " 23233.288730264354,\n",
       " 23440.299497913013,\n",
       " 23647.310265561675,\n",
       " 23854.321033210337,\n",
       " 24061.331800858996,\n",
       " 24268.342568507655,\n",
       " 24475.353336156313,\n",
       " 24682.364103804975,\n",
       " 24889.374871453638,\n",
       " 25096.385639102296,\n",
       " 25303.396406750955,\n",
       " 25510.40717439962,\n",
       " 25717.417942048272,\n",
       " 25924.42870969694,\n",
       " 26131.439477345597,\n",
       " 26338.450244994256,\n",
       " 26545.46101264292,\n",
       " 26752.471780291573,\n",
       " 26959.48254794024,\n",
       " 27166.493315588898,\n",
       " 27373.504083237556,\n",
       " 27580.514850886222,\n",
       " 27787.525618534874,\n",
       " 27994.53638618354,\n",
       " 28201.547153832198]"
      ]
     },
     "execution_count": 417,
     "metadata": {},
     "output_type": "execute_result"
    }
   ],
   "source": [
    "prediction"
   ]
  },
  {
   "cell_type": "code",
   "execution_count": 416,
   "metadata": {},
   "outputs": [
    {
     "data": {
      "text/plain": [
       "<seaborn.axisgrid.FacetGrid at 0x25dfb5f0148>"
      ]
     },
     "execution_count": 416,
     "metadata": {},
     "output_type": "execute_result"
    },
    {
     "data": {
      "image/png": "[encoded data removed]",
      "text/plain": [
       "<Figure size 360x360 with 1 Axes>"
      ]
     },
     "metadata": {
      "needs_background": "light"
     },
     "output_type": "display_data"
    }
   ],
   "source": [
    "sns.lmplot(x='Days',y='Num Cases',data=dataset,palette='coolwarm')"
   ]
  },
  {
   "cell_type": "code",
   "execution_count": null,
   "metadata": {},
   "outputs": [],
   "source": []
  },
  {
   "cell_type": "code",
   "execution_count": null,
   "metadata": {},
   "outputs": [],
   "source": []
  },
  {
   "cell_type": "code",
   "execution_count": 421,
   "metadata": {},
   "outputs": [
    {
     "data": {
      "text/plain": [
       "Patient Number                                  58\n",
       "State Patient Number                         14907\n",
       "Date Announced                                   0\n",
       "Age Bracket                                  15694\n",
       "Gender                                       13618\n",
       "Detected City                                15198\n",
       "Detected District                             2386\n",
       "Detected State                                   1\n",
       "State code                                       1\n",
       "Current Status                                   0\n",
       "Notes                                         1318\n",
       "Contracted from which Patient (Suspected)    15827\n",
       "Nationality                                  15810\n",
       "Type of transmission                         14413\n",
       "Status Change Date                             169\n",
       "Source_1                                       289\n",
       "Source_2                                     13968\n",
       "Source_3                                     16919\n",
       "Num Cases                                        0\n",
       "dtype: int64"
      ]
     },
     "execution_count": 421,
     "metadata": {},
     "output_type": "execute_result"
    }
   ],
   "source": [
    "df1.isnull().sum()"
   ]
  },
  {
   "cell_type": "code",
   "execution_count": 4,
   "metadata": {},
   "outputs": [],
   "source": [
    "import numpy as np"
   ]
  },
  {
   "cell_type": "code",
   "execution_count": 6,
   "metadata": {},
   "outputs": [],
   "source": [
    "May18_24=12000"
   ]
  },
  {
   "cell_type": "code",
   "execution_count": null,
   "metadata": {},
   "outputs": [],
   "source": []
  },
  {
   "cell_type": "code",
   "execution_count": 9,
   "metadata": {},
   "outputs": [],
   "source": [
    "k = .2144762"
   ]
  },
  {
   "cell_type": "code",
   "execution_count": 10,
   "metadata": {},
   "outputs": [
    {
     "data": {
      "text/plain": [
       "9683.783550692891"
      ]
     },
     "execution_count": 10,
     "metadata": {},
     "output_type": "execute_result"
    }
   ],
   "source": [
    "m=  May18_24 / np.power(2.718 , k)\n",
    "m"
   ]
  },
  {
   "cell_type": "code",
   "execution_count": 11,
   "metadata": {},
   "outputs": [
    {
     "data": {
      "text/plain": [
       "7814.638654722518"
      ]
     },
     "execution_count": 11,
     "metadata": {},
     "output_type": "execute_result"
    }
   ],
   "source": [
    "m=  May18_24 / np.power(2.718 , k*2)\n",
    "m"
   ]
  },
  {
   "cell_type": "code",
   "execution_count": 19,
   "metadata": {},
   "outputs": [],
   "source": [
    "Jun2w = np.round(May18_24 * np.power(2.718 , k*3))\n",
    "Jun3w = np.round(May18_24 * np.power(2.718 , k* 4))\n",
    "Jun4w = np.round(May18_24 * np.power(2.718 , k* 5))"
   ]
  },
  {
   "cell_type": "code",
   "execution_count": 16,
   "metadata": {},
   "outputs": [
    {
     "data": {
      "text/plain": [
       "22834.0"
      ]
     },
     "execution_count": 16,
     "metadata": {},
     "output_type": "execute_result"
    }
   ],
   "source": [
    "Jun2w\n"
   ]
  },
  {
   "cell_type": "code",
   "execution_count": 17,
   "metadata": {},
   "outputs": [
    {
     "data": {
      "text/plain": [
       "28296.0"
      ]
     },
     "execution_count": 17,
     "metadata": {},
     "output_type": "execute_result"
    }
   ],
   "source": [
    "Jun3w"
   ]
  },
  {
   "cell_type": "code",
   "execution_count": 18,
   "metadata": {},
   "outputs": [
    {
     "data": {
      "text/plain": [
       "35064.0"
      ]
     },
     "execution_count": 18,
     "metadata": {},
     "output_type": "execute_result"
    }
   ],
   "source": [
    "Jun4w"
   ]
  },
  {
   "cell_type": "code",
   "execution_count": null,
   "metadata": {},
   "outputs": [],
   "source": []
  },
  {
   "cell_type": "code",
   "execution_count": null,
   "metadata": {},
   "outputs": [],
   "source": []
  },
  {
   "cell_type": "code",
   "execution_count": null,
   "metadata": {},
   "outputs": [],
   "source": []
  }
 ],
 "metadata": {
  "hide_input": false,
  "kernelspec": {
   "display_name": "Python 3",
   "language": "python",
   "name": "python3"
  },
  "language_info": {
   "codemirror_mode": {
    "name": "ipython",
    "version": 3
   },
   "file_extension": ".py",
   "mimetype": "text/x-python",
   "name": "python",
   "nbconvert_exporter": "python",
   "pygments_lexer": "ipython3",
   "version": "3.7.6"
  }
 },
 "nbformat": 4,
 "nbformat_minor": 4
}
