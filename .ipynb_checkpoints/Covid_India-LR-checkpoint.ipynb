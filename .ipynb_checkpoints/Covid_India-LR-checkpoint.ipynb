{
 "cells": [
  {
   "cell_type": "markdown",
   "metadata": {},
   "source": [
    "# COVID : Tracking the impact of COVID-19 in India"
   ]
  },
  {
   "cell_type": "code",
   "execution_count": 145,
   "metadata": {},
   "outputs": [],
   "source": [
    "import pandas as pd\n",
    "import matplotlib.pyplot as plt\n",
    "import seaborn as sns\n",
    "import numpy as np"
   ]
  },
  {
   "cell_type": "code",
   "execution_count": null,
   "metadata": {},
   "outputs": [],
   "source": []
  },
  {
   "cell_type": "code",
   "execution_count": 146,
   "metadata": {},
   "outputs": [],
   "source": [
    "dataset=pd.read_csv('df_confirmed_date_count.csv')"
   ]
  },
  {
   "cell_type": "code",
   "execution_count": 147,
   "metadata": {},
   "outputs": [
    {
     "data": {
      "text/html": [
       "<div>\n",
       "<style scoped>\n",
       "    .dataframe tbody tr th:only-of-type {\n",
       "        vertical-align: middle;\n",
       "    }\n",
       "\n",
       "    .dataframe tbody tr th {\n",
       "        vertical-align: top;\n",
       "    }\n",
       "\n",
       "    .dataframe thead th {\n",
       "        text-align: right;\n",
       "    }\n",
       "</style>\n",
       "<table border=\"1\" class=\"dataframe\">\n",
       "  <thead>\n",
       "    <tr style=\"text-align: right;\">\n",
       "      <th></th>\n",
       "      <th>Days</th>\n",
       "      <th>XYZ</th>\n",
       "      <th>Num Cases</th>\n",
       "    </tr>\n",
       "  </thead>\n",
       "  <tbody>\n",
       "    <tr>\n",
       "      <th>0</th>\n",
       "      <td>1</td>\n",
       "      <td>1</td>\n",
       "      <td>5</td>\n",
       "    </tr>\n",
       "    <tr>\n",
       "      <th>1</th>\n",
       "      <td>2</td>\n",
       "      <td>2</td>\n",
       "      <td>1</td>\n",
       "    </tr>\n",
       "  </tbody>\n",
       "</table>\n",
       "</div>"
      ],
      "text/plain": [
       "   Days  XYZ  Num Cases\n",
       "0     1    1          5\n",
       "1     2    2          1"
      ]
     },
     "execution_count": 147,
     "metadata": {},
     "output_type": "execute_result"
    }
   ],
   "source": [
    "dataset.head(2)"
   ]
  },
  {
   "cell_type": "code",
   "execution_count": 148,
   "metadata": {},
   "outputs": [],
   "source": [
    "X=dataset[['Days']]\n",
    "y=dataset['Num Cases']"
   ]
  },
  {
   "cell_type": "code",
   "execution_count": null,
   "metadata": {},
   "outputs": [],
   "source": []
  },
  {
   "cell_type": "code",
   "execution_count": null,
   "metadata": {},
   "outputs": [],
   "source": []
  },
  {
   "cell_type": "code",
   "execution_count": 149,
   "metadata": {},
   "outputs": [
    {
     "data": {
      "text/plain": [
       "0          5\n",
       "1          1\n",
       "2          2\n",
       "3          4\n",
       "4          4\n",
       "       ...  \n",
       "123    23145\n",
       "124    25561\n",
       "125    25790\n",
       "126    27762\n",
       "127    27755\n",
       "Name: Num Cases, Length: 128, dtype: int64"
      ]
     },
     "execution_count": 149,
     "metadata": {},
     "output_type": "execute_result"
    }
   ],
   "source": [
    "y"
   ]
  },
  {
   "cell_type": "code",
   "execution_count": 150,
   "metadata": {},
   "outputs": [],
   "source": [
    "from sklearn.model_selection import train_test_split\n",
    "X_train, X_test, y_train, y_test = train_test_split(X, y, test_size=0.40, random_state=42)\n",
    "from sklearn.linear_model import LinearRegression\n",
    "lm=LinearRegression()"
   ]
  },
  {
   "cell_type": "code",
   "execution_count": null,
   "metadata": {},
   "outputs": [],
   "source": []
  },
  {
   "cell_type": "code",
   "execution_count": 151,
   "metadata": {},
   "outputs": [
    {
     "data": {
      "text/plain": [
       "LinearRegression(copy_X=True, fit_intercept=True, n_jobs=None, normalize=False)"
      ]
     },
     "execution_count": 151,
     "metadata": {},
     "output_type": "execute_result"
    }
   ],
   "source": [
    "lm.fit(X_train,y_train)"
   ]
  },
  {
   "cell_type": "code",
   "execution_count": 152,
   "metadata": {},
   "outputs": [
    {
     "data": {
      "text/plain": [
       "array([ 5.00383206e+03,  2.23124378e+03, -1.65037982e+03,  5.67690809e+02,\n",
       "        1.29519185e+04,  5.18867128e+03,  7.59158112e+03,  1.40609538e+04,\n",
       "        9.80965175e+03, -3.56505285e+02,  1.22125616e+04, -1.71666066e+02,\n",
       "        6.66738503e+03, -4.42296810e+03,  1.25822400e+04,  1.57245067e+04,\n",
       "        1.49188690e+03,  9.62481253e+03,  1.79425774e+04,  1.03641694e+04,\n",
       "       -1.83521904e+03, -3.31393279e+03,  1.66487028e+04, -3.12909357e+03,\n",
       "        1.42457930e+04,  3.15543987e+03,  7.77642034e+03,  9.25513409e+03,\n",
       "        3.52511831e+03, -5.16232497e+03, -2.94425435e+03,  2.60092222e+03,\n",
       "        1.81274166e+04, -7.26183723e+02,  7.22190269e+03,  1.53548283e+04,\n",
       "        1.12883655e+04, -2.38973669e+03,  9.07029487e+03, -1.09586216e+03,\n",
       "        2.97060065e+03,  6.85222425e+03,  1.23974008e+04,  3.82851590e+02,\n",
       "        6.29770659e+03,  1.72032205e+04, -3.49877200e+03,  9.37369246e+02,\n",
       "        7.03706347e+03, -5.41344504e+02,  1.60941852e+04,  1.31731525e+01])"
      ]
     },
     "execution_count": 152,
     "metadata": {},
     "output_type": "execute_result"
    }
   ],
   "source": [
    "prediction=lm.predict(X_test)\n",
    "prediction"
   ]
  },
  {
   "cell_type": "code",
   "execution_count": null,
   "metadata": {},
   "outputs": [],
   "source": []
  },
  {
   "cell_type": "code",
   "execution_count": 161,
   "metadata": {},
   "outputs": [
    {
     "data": {
      "text/plain": [
       "<matplotlib.collections.PathCollection at 0x178aaa401c8>"
      ]
     },
     "execution_count": 161,
     "metadata": {},
     "output_type": "execute_result"
    },
    {
     "data": {
      "image/png": "[encoded data removed]",
      "text/plain": [
       "<Figure size 432x288 with 1 Axes>"
      ]
     },
     "metadata": {
      "needs_background": "light"
     },
     "output_type": "display_data"
    }
   ],
   "source": [
    "plt.scatter(prediction,y_test)\n"
   ]
  },
  {
   "cell_type": "code",
   "execution_count": 165,
   "metadata": {},
   "outputs": [
    {
     "data": {
      "image/png": "[encoded data removed]",
      "text/plain": [
       "<Figure size 432x288 with 1 Axes>"
      ]
     },
     "metadata": {
      "needs_background": "light"
     },
     "output_type": "display_data"
    }
   ],
   "source": [
    "plt.scatter(X_test, y_test, color = 'red')\n",
    "plt.plot(X_test, lm.predict(X_test), color = 'blue')\n",
    "plt.title('LM Count')\n",
    "plt.xlabel('No of Days')\n",
    "plt.ylabel('Count')\n",
    "plt.show()"
   ]
  },
  {
   "cell_type": "code",
   "execution_count": null,
   "metadata": {},
   "outputs": [],
   "source": []
  },
  {
   "cell_type": "code",
   "execution_count": 132,
   "metadata": {},
   "outputs": [
    {
     "data": {
      "text/plain": [
       "<matplotlib.axes._subplots.AxesSubplot at 0x178a8657588>"
      ]
     },
     "execution_count": 132,
     "metadata": {},
     "output_type": "execute_result"
    },
    {
     "data": {
      "image/png": "[encoded data removed]",
      "text/plain": [
       "<Figure size 432x288 with 1 Axes>"
      ]
     },
     "metadata": {
      "needs_background": "light"
     },
     "output_type": "display_data"
    }
   ],
   "source": [
    "sns.distplot((y_test-prediction),bins=50)"
   ]
  },
  {
   "cell_type": "code",
   "execution_count": 133,
   "metadata": {},
   "outputs": [
    {
     "data": {
      "text/plain": [
       "<seaborn.axisgrid.FacetGrid at 0x178a8132bc8>"
      ]
     },
     "execution_count": 133,
     "metadata": {},
     "output_type": "execute_result"
    },
    {
     "data": {
      "image/png": "[encoded data removed]",
      "text/plain": [
       "<Figure size 360x360 with 1 Axes>"
      ]
     },
     "metadata": {
      "needs_background": "light"
     },
     "output_type": "display_data"
    }
   ],
   "source": [
    "sns.lmplot(x='Days',y='Num Cases',data=dataset)"
   ]
  },
  {
   "cell_type": "code",
   "execution_count": 134,
   "metadata": {},
   "outputs": [
    {
     "name": "stdout",
     "output_type": "stream",
     "text": [
      "MAE: 2655.664407516457\n",
      "MSE: 10609558.467262398\n",
      "RMSE: 3257.2317183863966\n"
     ]
    },
    {
     "data": {
      "text/plain": [
       "0.8159620217419133"
      ]
     },
     "execution_count": 134,
     "metadata": {},
     "output_type": "execute_result"
    }
   ],
   "source": [
    "from sklearn import metrics\n",
    "print('MAE:', metrics.mean_absolute_error(y_test, prediction))\n",
    "print('MSE:', metrics.mean_squared_error(y_test, prediction))\n",
    "print('RMSE:', np.sqrt(metrics.mean_squared_error(y_test, prediction)))\n",
    "\n",
    "metrics.explained_variance_score(y_test, prediction)"
   ]
  },
  {
   "cell_type": "code",
   "execution_count": 135,
   "metadata": {},
   "outputs": [],
   "source": [
    "mylist=[]\n",
    "\n",
    "for i in range(129,148):\n",
    "    x=[i]\n",
    "    mylist.append(x)\n",
    "mytestdf=pd.DataFrame(mylist,columns=['Days'])"
   ]
  },
  {
   "cell_type": "code",
   "execution_count": 136,
   "metadata": {},
   "outputs": [
    {
     "data": {
      "text/plain": [
       "[18497.095030880308,\n",
       " 18681.93424966435,\n",
       " 18866.773468448402,\n",
       " 19051.612687232446,\n",
       " 19236.45190601649,\n",
       " 19421.29112480054,\n",
       " 19606.130343584584,\n",
       " 19790.969562368628,\n",
       " 19975.80878115268,\n",
       " 20160.647999936722,\n",
       " 20345.487218720766,\n",
       " 20530.326437504817,\n",
       " 20715.16565628886,\n",
       " 20900.004875072904,\n",
       " 21084.844093856955,\n",
       " 21269.683312641,\n",
       " 21454.522531425042,\n",
       " 21639.361750209093,\n",
       " 21824.200968993136]"
      ]
     },
     "execution_count": 136,
     "metadata": {},
     "output_type": "execute_result"
    }
   ],
   "source": [
    "prediction=lm.predict(mytestdf).tolist()\n",
    "prediction"
   ]
  },
  {
   "cell_type": "code",
   "execution_count": 137,
   "metadata": {},
   "outputs": [],
   "source": [
    "mylist=[]\n",
    "\n",
    "for i in range(129,365):\n",
    "    x=[i]\n",
    "    mylist.append(x)\n",
    "mytestdf=pd.DataFrame(mylist,columns=['Days'])"
   ]
  },
  {
   "cell_type": "code",
   "execution_count": 138,
   "metadata": {},
   "outputs": [
    {
     "data": {
      "text/plain": [
       "[18497.095030880308,\n",
       " 18681.93424966435,\n",
       " 18866.773468448402,\n",
       " 19051.612687232446,\n",
       " 19236.45190601649,\n",
       " 19421.29112480054,\n",
       " 19606.130343584584,\n",
       " 19790.969562368628,\n",
       " 19975.80878115268,\n",
       " 20160.647999936722,\n",
       " 20345.487218720766,\n",
       " 20530.326437504817,\n",
       " 20715.16565628886,\n",
       " 20900.004875072904,\n",
       " 21084.844093856955,\n",
       " 21269.683312641,\n",
       " 21454.522531425042,\n",
       " 21639.361750209093,\n",
       " 21824.200968993136,\n",
       " 22009.04018777718,\n",
       " 22193.87940656123,\n",
       " 22378.718625345275,\n",
       " 22563.55784412932,\n",
       " 22748.39706291337,\n",
       " 22933.236281697413,\n",
       " 23118.075500481456,\n",
       " 23302.914719265507,\n",
       " 23487.75393804955,\n",
       " 23672.593156833595,\n",
       " 23857.432375617645,\n",
       " 24042.27159440169,\n",
       " 24227.110813185733,\n",
       " 24411.950031969784,\n",
       " 24596.789250753827,\n",
       " 24781.62846953787,\n",
       " 24966.46768832192,\n",
       " 25151.306907105965,\n",
       " 25336.14612589001,\n",
       " 25520.98534467406,\n",
       " 25705.824563458104,\n",
       " 25890.663782242147,\n",
       " 26075.503001026198,\n",
       " 26260.34221981024,\n",
       " 26445.181438594285,\n",
       " 26630.020657378336,\n",
       " 26814.85987616238,\n",
       " 26999.699094946423,\n",
       " 27184.538313730474,\n",
       " 27369.377532514518,\n",
       " 27554.21675129856,\n",
       " 27739.055970082612,\n",
       " 27923.895188866656,\n",
       " 28108.7344076507,\n",
       " 28293.57362643475,\n",
       " 28478.412845218794,\n",
       " 28663.252064002838,\n",
       " 28848.09128278689,\n",
       " 29032.930501570932,\n",
       " 29217.769720354976,\n",
       " 29402.608939139027,\n",
       " 29587.44815792307,\n",
       " 29772.287376707114,\n",
       " 29957.126595491165,\n",
       " 30141.96581427521,\n",
       " 30326.805033059252,\n",
       " 30511.644251843303,\n",
       " 30696.483470627347,\n",
       " 30881.32268941139,\n",
       " 31066.16190819544,\n",
       " 31251.001126979485,\n",
       " 31435.84034576353,\n",
       " 31620.67956454758,\n",
       " 31805.518783331623,\n",
       " 31990.358002115667,\n",
       " 32175.197220899718,\n",
       " 32360.03643968376,\n",
       " 32544.875658467805,\n",
       " 32729.714877251856,\n",
       " 32914.5540960359,\n",
       " 33099.39331481994,\n",
       " 33284.232533603994,\n",
       " 33469.07175238804,\n",
       " 33653.91097117208,\n",
       " 33838.75018995613,\n",
       " 34023.589408740176,\n",
       " 34208.42862752422,\n",
       " 34393.26784630827,\n",
       " 34578.107065092314,\n",
       " 34762.94628387636,\n",
       " 34947.78550266041,\n",
       " 35132.62472144445,\n",
       " 35317.463940228496,\n",
       " 35502.30315901255,\n",
       " 35687.14237779659,\n",
       " 35871.981596580634,\n",
       " 36056.820815364685,\n",
       " 36241.66003414873,\n",
       " 36426.49925293277,\n",
       " 36611.338471716816,\n",
       " 36796.17769050087,\n",
       " 36981.01690928491,\n",
       " 37165.856128068954,\n",
       " 37350.695346853005,\n",
       " 37535.53456563705,\n",
       " 37720.37378442109,\n",
       " 37905.21300320514,\n",
       " 38090.05222198919,\n",
       " 38274.89144077323,\n",
       " 38459.73065955728,\n",
       " 38644.569878341325,\n",
       " 38829.40909712537,\n",
       " 39014.24831590942,\n",
       " 39199.08753469346,\n",
       " 39383.926753477506,\n",
       " 39568.76597226156,\n",
       " 39753.6051910456,\n",
       " 39938.444409829644,\n",
       " 40123.283628613695,\n",
       " 40308.12284739774,\n",
       " 40492.96206618178,\n",
       " 40677.80128496583,\n",
       " 40862.64050374988,\n",
       " 41047.47972253392,\n",
       " 41232.31894131797,\n",
       " 41417.158160102015,\n",
       " 41601.99737888606,\n",
       " 41786.83659767011,\n",
       " 41971.67581645415,\n",
       " 42156.5150352382,\n",
       " 42341.35425402225,\n",
       " 42526.19347280629,\n",
       " 42711.032691590335,\n",
       " 42895.871910374386,\n",
       " 43080.71112915843,\n",
       " 43265.55034794247,\n",
       " 43450.389566726524,\n",
       " 43635.22878551057,\n",
       " 43820.06800429461,\n",
       " 44004.90722307866,\n",
       " 44189.746441862706,\n",
       " 44374.58566064675,\n",
       " 44559.4248794308,\n",
       " 44744.264098214844,\n",
       " 44929.10331699889,\n",
       " 45113.94253578294,\n",
       " 45298.78175456698,\n",
       " 45483.620973351026,\n",
       " 45668.46019213508,\n",
       " 45853.29941091912,\n",
       " 46038.138629703164,\n",
       " 46222.977848487215,\n",
       " 46407.81706727126,\n",
       " 46592.6562860553,\n",
       " 46777.49550483935,\n",
       " 46962.3347236234,\n",
       " 47147.17394240744,\n",
       " 47332.01316119149,\n",
       " 47516.852379975535,\n",
       " 47701.69159875958,\n",
       " 47886.53081754362,\n",
       " 48071.37003632767,\n",
       " 48256.20925511172,\n",
       " 48441.04847389576,\n",
       " 48625.88769267981,\n",
       " 48810.726911463855,\n",
       " 48995.5661302479,\n",
       " 49180.40534903195,\n",
       " 49365.24456781599,\n",
       " 49550.08378660004,\n",
       " 49734.92300538409,\n",
       " 49919.76222416813,\n",
       " 50104.601442952175,\n",
       " 50289.440661736226,\n",
       " 50474.27988052027,\n",
       " 50659.11909930431,\n",
       " 50843.958318088364,\n",
       " 51028.79753687241,\n",
       " 51213.63675565645,\n",
       " 51398.4759744405,\n",
       " 51583.315193224546,\n",
       " 51768.15441200859,\n",
       " 51952.99363079264,\n",
       " 52137.832849576684,\n",
       " 52322.67206836073,\n",
       " 52507.51128714478,\n",
       " 52692.35050592882,\n",
       " 52877.189724712865,\n",
       " 53062.028943496916,\n",
       " 53246.86816228096,\n",
       " 53431.707381065,\n",
       " 53616.546599849054,\n",
       " 53801.3858186331,\n",
       " 53986.22503741714,\n",
       " 54171.06425620119,\n",
       " 54355.903474985236,\n",
       " 54540.74269376928,\n",
       " 54725.58191255333,\n",
       " 54910.421131337374,\n",
       " 55095.26035012142,\n",
       " 55280.09956890547,\n",
       " 55464.93878768951,\n",
       " 55649.778006473556,\n",
       " 55834.61722525761,\n",
       " 56019.45644404165,\n",
       " 56204.295662825694,\n",
       " 56389.134881609745,\n",
       " 56573.97410039379,\n",
       " 56758.81331917783,\n",
       " 56943.65253796188,\n",
       " 57128.49175674593,\n",
       " 57313.33097552997,\n",
       " 57498.17019431402,\n",
       " 57683.009413098065,\n",
       " 57867.84863188211,\n",
       " 58052.68785066616,\n",
       " 58237.5270694502,\n",
       " 58422.36628823425,\n",
       " 58607.2055070183,\n",
       " 58792.04472580234,\n",
       " 58976.883944586385,\n",
       " 59161.723163370436,\n",
       " 59346.56238215448,\n",
       " 59531.40160093852,\n",
       " 59716.240819722574,\n",
       " 59901.08003850662,\n",
       " 60085.91925729066,\n",
       " 60270.75847607471,\n",
       " 60455.59769485875,\n",
       " 60640.4369136428,\n",
       " 60825.27613242685,\n",
       " 61010.11535121089,\n",
       " 61194.95456999494,\n",
       " 61379.79378877899,\n",
       " 61564.633007563025,\n",
       " 61749.472226347076,\n",
       " 61934.31144513113]"
      ]
     },
     "execution_count": 138,
     "metadata": {},
     "output_type": "execute_result"
    }
   ],
   "source": [
    "prediction=lm.predict(mytestdf).tolist()\n",
    "prediction"
   ]
  },
  {
   "cell_type": "code",
   "execution_count": 139,
   "metadata": {},
   "outputs": [
    {
     "name": "stderr",
     "output_type": "stream",
     "text": [
      "C:\\Users\\Nitin Verma\\anaconda3\\lib\\site-packages\\ipykernel_launcher.py:1: RuntimeWarning: overflow encountered in exp\n",
      "  \"\"\"Entry point for launching an IPython kernel.\n"
     ]
    }
   ],
   "source": [
    "prediction=np.exp(prediction)"
   ]
  },
  {
   "cell_type": "code",
   "execution_count": 140,
   "metadata": {},
   "outputs": [
    {
     "data": {
      "text/plain": [
       "-5347.164192261627"
      ]
     },
     "execution_count": 140,
     "metadata": {},
     "output_type": "execute_result"
    }
   ],
   "source": [
    "lm.intercept_"
   ]
  },
  {
   "cell_type": "code",
   "execution_count": 141,
   "metadata": {},
   "outputs": [
    {
     "data": {
      "text/plain": [
       "array([184.83921878])"
      ]
     },
     "execution_count": 141,
     "metadata": {},
     "output_type": "execute_result"
    }
   ],
   "source": [
    "lm.coef_"
   ]
  },
  {
   "cell_type": "code",
   "execution_count": 142,
   "metadata": {},
   "outputs": [
    {
     "data": {
      "text/plain": [
       "<module 'sklearn.metrics' from 'C:\\\\Users\\\\Nitin Verma\\\\anaconda3\\\\lib\\\\site-packages\\\\sklearn\\\\metrics\\\\__init__.py'>"
      ]
     },
     "execution_count": 142,
     "metadata": {},
     "output_type": "execute_result"
    }
   ],
   "source": [
    "metrics"
   ]
  },
  {
   "cell_type": "code",
   "execution_count": 143,
   "metadata": {},
   "outputs": [
    {
     "ename": "ValueError",
     "evalue": "Input contains NaN, infinity or a value too large for dtype('float64').",
     "output_type": "error",
     "traceback": [
      "\u001b[1;31m---------------------------------------------------------------------------\u001b[0m",
      "\u001b[1;31mValueError\u001b[0m                                Traceback (most recent call last)",
      "\u001b[1;32m<ipython-input-143-1112120bb464>\u001b[0m in \u001b[0;36m<module>\u001b[1;34m\u001b[0m\n\u001b[1;32m----> 1\u001b[1;33m \u001b[0mmetrics\u001b[0m\u001b[1;33m.\u001b[0m\u001b[0mexplained_variance_score\u001b[0m\u001b[1;33m(\u001b[0m\u001b[0mmytestdf\u001b[0m\u001b[1;33m,\u001b[0m \u001b[0mprediction\u001b[0m\u001b[1;33m)\u001b[0m\u001b[1;33m\u001b[0m\u001b[1;33m\u001b[0m\u001b[0m\n\u001b[0m",
      "\u001b[1;32m~\\anaconda3\\lib\\site-packages\\sklearn\\metrics\\_regression.py\u001b[0m in \u001b[0;36mexplained_variance_score\u001b[1;34m(y_true, y_pred, sample_weight, multioutput)\u001b[0m\n\u001b[0;32m    452\u001b[0m     \"\"\"\n\u001b[0;32m    453\u001b[0m     y_type, y_true, y_pred, multioutput = _check_reg_targets(\n\u001b[1;32m--> 454\u001b[1;33m         y_true, y_pred, multioutput)\n\u001b[0m\u001b[0;32m    455\u001b[0m     \u001b[0mcheck_consistent_length\u001b[0m\u001b[1;33m(\u001b[0m\u001b[0my_true\u001b[0m\u001b[1;33m,\u001b[0m \u001b[0my_pred\u001b[0m\u001b[1;33m,\u001b[0m \u001b[0msample_weight\u001b[0m\u001b[1;33m)\u001b[0m\u001b[1;33m\u001b[0m\u001b[1;33m\u001b[0m\u001b[0m\n\u001b[0;32m    456\u001b[0m \u001b[1;33m\u001b[0m\u001b[0m\n",
      "\u001b[1;32m~\\anaconda3\\lib\\site-packages\\sklearn\\metrics\\_regression.py\u001b[0m in \u001b[0;36m_check_reg_targets\u001b[1;34m(y_true, y_pred, multioutput, dtype)\u001b[0m\n\u001b[0;32m     84\u001b[0m     \u001b[0mcheck_consistent_length\u001b[0m\u001b[1;33m(\u001b[0m\u001b[0my_true\u001b[0m\u001b[1;33m,\u001b[0m \u001b[0my_pred\u001b[0m\u001b[1;33m)\u001b[0m\u001b[1;33m\u001b[0m\u001b[1;33m\u001b[0m\u001b[0m\n\u001b[0;32m     85\u001b[0m     \u001b[0my_true\u001b[0m \u001b[1;33m=\u001b[0m \u001b[0mcheck_array\u001b[0m\u001b[1;33m(\u001b[0m\u001b[0my_true\u001b[0m\u001b[1;33m,\u001b[0m \u001b[0mensure_2d\u001b[0m\u001b[1;33m=\u001b[0m\u001b[1;32mFalse\u001b[0m\u001b[1;33m,\u001b[0m \u001b[0mdtype\u001b[0m\u001b[1;33m=\u001b[0m\u001b[0mdtype\u001b[0m\u001b[1;33m)\u001b[0m\u001b[1;33m\u001b[0m\u001b[1;33m\u001b[0m\u001b[0m\n\u001b[1;32m---> 86\u001b[1;33m     \u001b[0my_pred\u001b[0m \u001b[1;33m=\u001b[0m \u001b[0mcheck_array\u001b[0m\u001b[1;33m(\u001b[0m\u001b[0my_pred\u001b[0m\u001b[1;33m,\u001b[0m \u001b[0mensure_2d\u001b[0m\u001b[1;33m=\u001b[0m\u001b[1;32mFalse\u001b[0m\u001b[1;33m,\u001b[0m \u001b[0mdtype\u001b[0m\u001b[1;33m=\u001b[0m\u001b[0mdtype\u001b[0m\u001b[1;33m)\u001b[0m\u001b[1;33m\u001b[0m\u001b[1;33m\u001b[0m\u001b[0m\n\u001b[0m\u001b[0;32m     87\u001b[0m \u001b[1;33m\u001b[0m\u001b[0m\n\u001b[0;32m     88\u001b[0m     \u001b[1;32mif\u001b[0m \u001b[0my_true\u001b[0m\u001b[1;33m.\u001b[0m\u001b[0mndim\u001b[0m \u001b[1;33m==\u001b[0m \u001b[1;36m1\u001b[0m\u001b[1;33m:\u001b[0m\u001b[1;33m\u001b[0m\u001b[1;33m\u001b[0m\u001b[0m\n",
      "\u001b[1;32m~\\anaconda3\\lib\\site-packages\\sklearn\\utils\\validation.py\u001b[0m in \u001b[0;36mcheck_array\u001b[1;34m(array, accept_sparse, accept_large_sparse, dtype, order, copy, force_all_finite, ensure_2d, allow_nd, ensure_min_samples, ensure_min_features, warn_on_dtype, estimator)\u001b[0m\n\u001b[0;32m    576\u001b[0m         \u001b[1;32mif\u001b[0m \u001b[0mforce_all_finite\u001b[0m\u001b[1;33m:\u001b[0m\u001b[1;33m\u001b[0m\u001b[1;33m\u001b[0m\u001b[0m\n\u001b[0;32m    577\u001b[0m             _assert_all_finite(array,\n\u001b[1;32m--> 578\u001b[1;33m                                allow_nan=force_all_finite == 'allow-nan')\n\u001b[0m\u001b[0;32m    579\u001b[0m \u001b[1;33m\u001b[0m\u001b[0m\n\u001b[0;32m    580\u001b[0m     \u001b[1;32mif\u001b[0m \u001b[0mensure_min_samples\u001b[0m \u001b[1;33m>\u001b[0m \u001b[1;36m0\u001b[0m\u001b[1;33m:\u001b[0m\u001b[1;33m\u001b[0m\u001b[1;33m\u001b[0m\u001b[0m\n",
      "\u001b[1;32m~\\anaconda3\\lib\\site-packages\\sklearn\\utils\\validation.py\u001b[0m in \u001b[0;36m_assert_all_finite\u001b[1;34m(X, allow_nan, msg_dtype)\u001b[0m\n\u001b[0;32m     58\u001b[0m                     \u001b[0mmsg_err\u001b[0m\u001b[1;33m.\u001b[0m\u001b[0mformat\u001b[0m\u001b[1;33m\u001b[0m\u001b[1;33m\u001b[0m\u001b[0m\n\u001b[0;32m     59\u001b[0m                     (type_err,\n\u001b[1;32m---> 60\u001b[1;33m                      msg_dtype if msg_dtype is not None else X.dtype)\n\u001b[0m\u001b[0;32m     61\u001b[0m             )\n\u001b[0;32m     62\u001b[0m     \u001b[1;31m# for object dtype data, we only check for NaNs (GH-13254)\u001b[0m\u001b[1;33m\u001b[0m\u001b[1;33m\u001b[0m\u001b[1;33m\u001b[0m\u001b[0m\n",
      "\u001b[1;31mValueError\u001b[0m: Input contains NaN, infinity or a value too large for dtype('float64')."
     ]
    }
   ],
   "source": [
    "metrics.explained_variance_score(mytestdf, prediction)"
   ]
  },
  {
   "cell_type": "code",
   "execution_count": null,
   "metadata": {},
   "outputs": [],
   "source": [
    "sns.distplot((y_test-prediction),bins=50);"
   ]
  },
  {
   "cell_type": "code",
   "execution_count": null,
   "metadata": {},
   "outputs": [],
   "source": []
  },
  {
   "cell_type": "code",
   "execution_count": null,
   "metadata": {},
   "outputs": [],
   "source": []
  },
  {
   "cell_type": "code",
   "execution_count": null,
   "metadata": {},
   "outputs": [],
   "source": []
  },
  {
   "cell_type": "code",
   "execution_count": null,
   "metadata": {},
   "outputs": [],
   "source": [
    "from sklearn import metrics\n",
    "import numpy as np\n",
    "print('MAE:', metrics.mean_absolute_error(y_test, prediction))\n",
    "print('MSE:', metrics.mean_squared_error(y_test, prediction))\n",
    "print('RMSE:', np.sqrt(metrics.mean_squared_error(y_test, prediction)))"
   ]
  },
  {
   "cell_type": "code",
   "execution_count": null,
   "metadata": {},
   "outputs": [],
   "source": []
  },
  {
   "cell_type": "code",
   "execution_count": null,
   "metadata": {},
   "outputs": [],
   "source": []
  },
  {
   "cell_type": "code",
   "execution_count": null,
   "metadata": {},
   "outputs": [],
   "source": [
    "list=[[301,301]]\n",
    "mytestdf=pd.DataFrame(list,columns=['Days','XYZ'])\n",
    "mytestdf"
   ]
  },
  {
   "cell_type": "code",
   "execution_count": null,
   "metadata": {},
   "outputs": [],
   "source": [
    "prediction=lm.predict(mytestdf)\n",
    "prediction"
   ]
  },
  {
   "cell_type": "code",
   "execution_count": null,
   "metadata": {},
   "outputs": [],
   "source": []
  },
  {
   "cell_type": "code",
   "execution_count": null,
   "metadata": {},
   "outputs": [],
   "source": [
    "for i in range(129,148):\n",
    "    x=[i,i]\n",
    "    mylist.append(x)"
   ]
  },
  {
   "cell_type": "code",
   "execution_count": null,
   "metadata": {},
   "outputs": [],
   "source": [
    "mylist"
   ]
  },
  {
   "cell_type": "code",
   "execution_count": null,
   "metadata": {},
   "outputs": [],
   "source": []
  },
  {
   "cell_type": "code",
   "execution_count": null,
   "metadata": {},
   "outputs": [],
   "source": [
    "mytestdf=pd.DataFrame(mylist,columns=['Days','XYZ'])\n",
    "mytestdf"
   ]
  },
  {
   "cell_type": "code",
   "execution_count": null,
   "metadata": {},
   "outputs": [],
   "source": [
    "prediction=lm.predict(mytestdf).tolist()\n",
    "total=sum(prediction)\n",
    "total"
   ]
  },
  {
   "cell_type": "code",
   "execution_count": null,
   "metadata": {},
   "outputs": [],
   "source": [
    "prediction"
   ]
  },
  {
   "cell_type": "code",
   "execution_count": null,
   "metadata": {},
   "outputs": [],
   "source": [
    "sns.lmplot(x='Days',y='Num Cases',data=dataset,palette='coolwarm')"
   ]
  },
  {
   "cell_type": "code",
   "execution_count": null,
   "metadata": {},
   "outputs": [],
   "source": []
  },
  {
   "cell_type": "code",
   "execution_count": null,
   "metadata": {},
   "outputs": [],
   "source": []
  },
  {
   "cell_type": "code",
   "execution_count": null,
   "metadata": {},
   "outputs": [],
   "source": [
    "df1.isnull().sum()"
   ]
  },
  {
   "cell_type": "code",
   "execution_count": 164,
   "metadata": {},
   "outputs": [
    {
     "data": {
      "text/plain": [
       "<matplotlib.collections.PathCollection at 0x178aaad3488>"
      ]
     },
     "execution_count": 164,
     "metadata": {},
     "output_type": "execute_result"
    },
    {
     "data": {
      "image/png": "[encoded data removed]",
      "text/plain": [
       "<Figure size 432x288 with 1 Axes>"
      ]
     },
     "metadata": {
      "needs_background": "light"
     },
     "output_type": "display_data"
    }
   ],
   "source": [
    "plt.scatter([1,2,3], [1,2,3], color = 'red')"
   ]
  }
 ],
 "metadata": {
  "kernelspec": {
   "display_name": "Python 3",
   "language": "python",
   "name": "python3"
  },
  "language_info": {
   "codemirror_mode": {
    "name": "ipython",
    "version": 3
   },
   "file_extension": ".py",
   "mimetype": "text/x-python",
   "name": "python",
   "nbconvert_exporter": "python",
   "pygments_lexer": "ipython3",
   "version": "3.7.6"
  }
 },
 "nbformat": 4,
 "nbformat_minor": 4
}
